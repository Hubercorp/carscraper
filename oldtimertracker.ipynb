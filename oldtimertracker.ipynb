{
 "cells": [
  {
   "cell_type": "markdown",
   "metadata": {},
   "source": [
    "# Imports"
   ]
  },
  {
   "cell_type": "code",
   "execution_count": 13,
   "metadata": {},
   "outputs": [],
   "source": [
    "#import of the libraries\n",
    "import numpy as np\n",
    "import pandas as pd\n",
    "import matplotlib.pyplot as plt\n",
    "import seaborn as sns\n",
    "import glob"
   ]
  },
  {
   "cell_type": "code",
   "execution_count": 14,
   "metadata": {},
   "outputs": [],
   "source": [
    "# #import of the auction csv file\n",
    "# path = r'C:\\Users\\portable\\oldtimertrends\\auction' # to use it, change set your own path\n",
    "# all_files = glob.glob(path + \"/*.csv\")\n",
    "\n",
    "# #list of csv file\n",
    "# auction_list = []\n",
    "\n",
    "# for filename in all_files:\n",
    "#     #print(filename)\n",
    "#     df = pd.read_csv(filename, index_col=None, header=0)\n",
    "#     #print(df.shape)\n",
    "#     auction_list.append(df)\n",
    "\n",
    "# df = pd.concat(auction_list, axis=0, ignore_index=True)"
   ]
  },
  {
   "cell_type": "markdown",
   "metadata": {},
   "source": [
    "# Overview of the DF"
   ]
  },
  {
   "cell_type": "code",
   "execution_count": 15,
   "metadata": {},
   "outputs": [
    {
     "data": {
      "text/html": [
       "<div>\n",
       "<style scoped>\n",
       "    .dataframe tbody tr th:only-of-type {\n",
       "        vertical-align: middle;\n",
       "    }\n",
       "\n",
       "    .dataframe tbody tr th {\n",
       "        vertical-align: top;\n",
       "    }\n",
       "\n",
       "    .dataframe thead th {\n",
       "        text-align: right;\n",
       "    }\n",
       "</style>\n",
       "<table border=\"1\" class=\"dataframe\">\n",
       "  <thead>\n",
       "    <tr style=\"text-align: right;\">\n",
       "      <th></th>\n",
       "      <th>auction_brand</th>\n",
       "      <th>auction_date</th>\n",
       "      <th>auction_location</th>\n",
       "      <th>auction_model</th>\n",
       "      <th>auction_organizor</th>\n",
       "      <th>auction_price</th>\n",
       "      <th>auction_restauration_code</th>\n",
       "      <th>auction_sales_code</th>\n",
       "      <th>auction_url</th>\n",
       "      <th>model</th>\n",
       "      <th>quote_id</th>\n",
       "      <th>year</th>\n",
       "    </tr>\n",
       "  </thead>\n",
       "  <tbody>\n",
       "    <tr>\n",
       "      <th>0</th>\n",
       "      <td>NaN</td>\n",
       "      <td>NaN</td>\n",
       "      <td>NaN</td>\n",
       "      <td>NaN</td>\n",
       "      <td>NaN</td>\n",
       "      <td>NaN</td>\n",
       "      <td>NaN</td>\n",
       "      <td>NaN</td>\n",
       "      <td>NaN</td>\n",
       "      <td>NaN</td>\n",
       "      <td>4175</td>\n",
       "      <td>NaN</td>\n",
       "    </tr>\n",
       "    <tr>\n",
       "      <th>1</th>\n",
       "      <td>MERCEDES</td>\n",
       "      <td>13/07/2019</td>\n",
       "      <td>Brooklands</td>\n",
       "      <td>280 SL cabriolet hard-top</td>\n",
       "      <td>Historics at Brooklands</td>\n",
       "      <td>62 410 €</td>\n",
       "      <td>REST</td>\n",
       "      <td>V</td>\n",
       "      <td>NaN</td>\n",
       "      <td>NaN</td>\n",
       "      <td>4175</td>\n",
       "      <td>NaN</td>\n",
       "    </tr>\n",
       "    <tr>\n",
       "      <th>2</th>\n",
       "      <td>MERCEDES</td>\n",
       "      <td>29/05/2019</td>\n",
       "      <td>Auburn</td>\n",
       "      <td>280 SL cabriolet hard-top</td>\n",
       "      <td>RM Sotheby's</td>\n",
       "      <td>83 630 €</td>\n",
       "      <td>REST</td>\n",
       "      <td>V</td>\n",
       "      <td>NaN</td>\n",
       "      <td>NaN</td>\n",
       "      <td>4175</td>\n",
       "      <td>NaN</td>\n",
       "    </tr>\n",
       "    <tr>\n",
       "      <th>3</th>\n",
       "      <td>MERCEDES</td>\n",
       "      <td>18/05/2019</td>\n",
       "      <td>Brooklands</td>\n",
       "      <td>280 SL cabriolet hard-top RHD</td>\n",
       "      <td>Historics at Brooklands</td>\n",
       "      <td>109 610 €</td>\n",
       "      <td>REST</td>\n",
       "      <td>V</td>\n",
       "      <td>NaN</td>\n",
       "      <td>NaN</td>\n",
       "      <td>4175</td>\n",
       "      <td>NaN</td>\n",
       "    </tr>\n",
       "    <tr>\n",
       "      <th>4</th>\n",
       "      <td>MERCEDES</td>\n",
       "      <td>29/03/2019</td>\n",
       "      <td>Fort Lauderdale</td>\n",
       "      <td>280 SL cabriolet hard-top</td>\n",
       "      <td>RM Sotheby</td>\n",
       "      <td>63 640 €</td>\n",
       "      <td>REST</td>\n",
       "      <td>V</td>\n",
       "      <td>NaN</td>\n",
       "      <td>NaN</td>\n",
       "      <td>4175</td>\n",
       "      <td>NaN</td>\n",
       "    </tr>\n",
       "    <tr>\n",
       "      <th>...</th>\n",
       "      <td>...</td>\n",
       "      <td>...</td>\n",
       "      <td>...</td>\n",
       "      <td>...</td>\n",
       "      <td>...</td>\n",
       "      <td>...</td>\n",
       "      <td>...</td>\n",
       "      <td>...</td>\n",
       "      <td>...</td>\n",
       "      <td>...</td>\n",
       "      <td>...</td>\n",
       "      <td>...</td>\n",
       "    </tr>\n",
       "    <tr>\n",
       "      <th>109</th>\n",
       "      <td>MERCEDES</td>\n",
       "      <td>26/07/2006</td>\n",
       "      <td>Buxton</td>\n",
       "      <td>280 SL cabriolet hard-top RHD autom.</td>\n",
       "      <td>H &amp; H Classic Auctions</td>\n",
       "      <td>21 000 €</td>\n",
       "      <td>OR+</td>\n",
       "      <td>V</td>\n",
       "      <td>NaN</td>\n",
       "      <td>NaN</td>\n",
       "      <td>7</td>\n",
       "      <td>NaN</td>\n",
       "    </tr>\n",
       "    <tr>\n",
       "      <th>110</th>\n",
       "      <td>MERCEDES</td>\n",
       "      <td>22/07/2006</td>\n",
       "      <td>Nuremberg</td>\n",
       "      <td>280 SL cabriolet hard-top LHD, jantes alu</td>\n",
       "      <td>Coys Europe</td>\n",
       "      <td>37 000 €</td>\n",
       "      <td>REST+</td>\n",
       "      <td>V</td>\n",
       "      <td>NaN</td>\n",
       "      <td>NaN</td>\n",
       "      <td>7</td>\n",
       "      <td>NaN</td>\n",
       "    </tr>\n",
       "    <tr>\n",
       "      <th>111</th>\n",
       "      <td>MERCEDES</td>\n",
       "      <td>07/07/2006</td>\n",
       "      <td>Goodwood</td>\n",
       "      <td>280 SL cabriolet hard-top RHD autom.</td>\n",
       "      <td>Bonhams</td>\n",
       "      <td>8 250 €</td>\n",
       "      <td>OR</td>\n",
       "      <td>V</td>\n",
       "      <td>NaN</td>\n",
       "      <td>NaN</td>\n",
       "      <td>7</td>\n",
       "      <td>NaN</td>\n",
       "    </tr>\n",
       "    <tr>\n",
       "      <th>112</th>\n",
       "      <td>MERCEDES</td>\n",
       "      <td>02/04/2006</td>\n",
       "      <td>Fontainebleau</td>\n",
       "      <td>280 SL cabriolet + hard-top LHD</td>\n",
       "      <td>Jean-Pierre Osenat</td>\n",
       "      <td>25 000 €</td>\n",
       "      <td>REST</td>\n",
       "      <td>V</td>\n",
       "      <td>NaN</td>\n",
       "      <td>NaN</td>\n",
       "      <td>7</td>\n",
       "      <td>NaN</td>\n",
       "    </tr>\n",
       "    <tr>\n",
       "      <th>113</th>\n",
       "      <td>MERCEDES</td>\n",
       "      <td>14/03/2009</td>\n",
       "      <td>Saint-Leu-la-Forêt</td>\n",
       "      <td>280 SL cabriolet automatique + hard-top</td>\n",
       "      <td>SCP Riquier, Salvi, Gras</td>\n",
       "      <td>9 800 €</td>\n",
       "      <td>OR-</td>\n",
       "      <td>V</td>\n",
       "      <td>NaN</td>\n",
       "      <td>NaN</td>\n",
       "      <td>7</td>\n",
       "      <td>NaN</td>\n",
       "    </tr>\n",
       "  </tbody>\n",
       "</table>\n",
       "<p>114 rows × 12 columns</p>\n",
       "</div>"
      ],
      "text/plain": [
       "    auction_brand auction_date    auction_location  \\\n",
       "0             NaN          NaN                 NaN   \n",
       "1        MERCEDES   13/07/2019          Brooklands   \n",
       "2        MERCEDES   29/05/2019              Auburn   \n",
       "3        MERCEDES   18/05/2019          Brooklands   \n",
       "4        MERCEDES   29/03/2019     Fort Lauderdale   \n",
       "..            ...          ...                 ...   \n",
       "109      MERCEDES   26/07/2006              Buxton   \n",
       "110      MERCEDES   22/07/2006           Nuremberg   \n",
       "111      MERCEDES   07/07/2006            Goodwood   \n",
       "112      MERCEDES   02/04/2006       Fontainebleau   \n",
       "113      MERCEDES   14/03/2009  Saint-Leu-la-Forêt   \n",
       "\n",
       "                                 auction_model         auction_organizor  \\\n",
       "0                                          NaN                       NaN   \n",
       "1                    280 SL cabriolet hard-top   Historics at Brooklands   \n",
       "2                    280 SL cabriolet hard-top              RM Sotheby's   \n",
       "3                280 SL cabriolet hard-top RHD   Historics at Brooklands   \n",
       "4                    280 SL cabriolet hard-top                RM Sotheby   \n",
       "..                                         ...                       ...   \n",
       "109       280 SL cabriolet hard-top RHD autom.    H & H Classic Auctions   \n",
       "110  280 SL cabriolet hard-top LHD, jantes alu               Coys Europe   \n",
       "111       280 SL cabriolet hard-top RHD autom.                   Bonhams   \n",
       "112            280 SL cabriolet + hard-top LHD        Jean-Pierre Osenat   \n",
       "113    280 SL cabriolet automatique + hard-top  SCP Riquier, Salvi, Gras   \n",
       "\n",
       "    auction_price auction_restauration_code auction_sales_code  auction_url  \\\n",
       "0             NaN                       NaN                NaN          NaN   \n",
       "1        62 410 €                      REST                  V          NaN   \n",
       "2        83 630 €                      REST                  V          NaN   \n",
       "3       109 610 €                      REST                  V          NaN   \n",
       "4        63 640 €                      REST                  V          NaN   \n",
       "..            ...                       ...                ...          ...   \n",
       "109      21 000 €                       OR+                  V          NaN   \n",
       "110      37 000 €                     REST+                  V          NaN   \n",
       "111       8 250 €                        OR                  V          NaN   \n",
       "112      25 000 €                      REST                  V          NaN   \n",
       "113       9 800 €                       OR-                  V          NaN   \n",
       "\n",
       "     model  quote_id  year  \n",
       "0      NaN      4175   NaN  \n",
       "1      NaN      4175   NaN  \n",
       "2      NaN      4175   NaN  \n",
       "3      NaN      4175   NaN  \n",
       "4      NaN      4175   NaN  \n",
       "..     ...       ...   ...  \n",
       "109    NaN         7   NaN  \n",
       "110    NaN         7   NaN  \n",
       "111    NaN         7   NaN  \n",
       "112    NaN         7   NaN  \n",
       "113    NaN         7   NaN  \n",
       "\n",
       "[114 rows x 12 columns]"
      ]
     },
     "execution_count": 15,
     "metadata": {},
     "output_type": "execute_result"
    }
   ],
   "source": [
    "df = pd.read_csv('280sl.csv')\n",
    "df"
   ]
  },
  {
   "cell_type": "code",
   "execution_count": 16,
   "metadata": {},
   "outputs": [
    {
     "data": {
      "text/plain": [
       "Index(['auction_brand', 'auction_date', 'auction_location', 'auction_model',\n",
       "       'auction_organizor', 'auction_price', 'auction_restauration_code',\n",
       "       'auction_sales_code', 'auction_url', 'model', 'quote_id', 'year'],\n",
       "      dtype='object')"
      ]
     },
     "execution_count": 16,
     "metadata": {},
     "output_type": "execute_result"
    }
   ],
   "source": [
    "#check of the column names\n",
    "df.columns"
   ]
  },
  {
   "cell_type": "markdown",
   "metadata": {},
   "source": [
    "# Data cleaning"
   ]
  },
  {
   "cell_type": "code",
   "execution_count": 17,
   "metadata": {},
   "outputs": [
    {
     "name": "stdout",
     "output_type": "stream",
     "text": [
      "shape:  (107, 9)\n"
     ]
    },
    {
     "data": {
      "text/html": [
       "<div>\n",
       "<style scoped>\n",
       "    .dataframe tbody tr th:only-of-type {\n",
       "        vertical-align: middle;\n",
       "    }\n",
       "\n",
       "    .dataframe tbody tr th {\n",
       "        vertical-align: top;\n",
       "    }\n",
       "\n",
       "    .dataframe thead th {\n",
       "        text-align: right;\n",
       "    }\n",
       "</style>\n",
       "<table border=\"1\" class=\"dataframe\">\n",
       "  <thead>\n",
       "    <tr style=\"text-align: right;\">\n",
       "      <th></th>\n",
       "      <th>auction_brand</th>\n",
       "      <th>auction_date</th>\n",
       "      <th>auction_location</th>\n",
       "      <th>auction_model</th>\n",
       "      <th>auction_organizor</th>\n",
       "      <th>auction_price</th>\n",
       "      <th>auction_restauration_code</th>\n",
       "      <th>auction_sales_code</th>\n",
       "      <th>quote_id</th>\n",
       "    </tr>\n",
       "  </thead>\n",
       "  <tbody>\n",
       "    <tr>\n",
       "      <th>1</th>\n",
       "      <td>MERCEDES</td>\n",
       "      <td>13/07/2019</td>\n",
       "      <td>Brooklands</td>\n",
       "      <td>280 SL cabriolet hard-top</td>\n",
       "      <td>Historics at Brooklands</td>\n",
       "      <td>62 410 €</td>\n",
       "      <td>REST</td>\n",
       "      <td>V</td>\n",
       "      <td>4175</td>\n",
       "    </tr>\n",
       "    <tr>\n",
       "      <th>2</th>\n",
       "      <td>MERCEDES</td>\n",
       "      <td>29/05/2019</td>\n",
       "      <td>Auburn</td>\n",
       "      <td>280 SL cabriolet hard-top</td>\n",
       "      <td>RM Sotheby's</td>\n",
       "      <td>83 630 €</td>\n",
       "      <td>REST</td>\n",
       "      <td>V</td>\n",
       "      <td>4175</td>\n",
       "    </tr>\n",
       "    <tr>\n",
       "      <th>3</th>\n",
       "      <td>MERCEDES</td>\n",
       "      <td>18/05/2019</td>\n",
       "      <td>Brooklands</td>\n",
       "      <td>280 SL cabriolet hard-top RHD</td>\n",
       "      <td>Historics at Brooklands</td>\n",
       "      <td>109 610 €</td>\n",
       "      <td>REST</td>\n",
       "      <td>V</td>\n",
       "      <td>4175</td>\n",
       "    </tr>\n",
       "    <tr>\n",
       "      <th>4</th>\n",
       "      <td>MERCEDES</td>\n",
       "      <td>29/03/2019</td>\n",
       "      <td>Fort Lauderdale</td>\n",
       "      <td>280 SL cabriolet hard-top</td>\n",
       "      <td>RM Sotheby</td>\n",
       "      <td>63 640 €</td>\n",
       "      <td>REST</td>\n",
       "      <td>V</td>\n",
       "      <td>4175</td>\n",
       "    </tr>\n",
       "    <tr>\n",
       "      <th>5</th>\n",
       "      <td>MERCEDES</td>\n",
       "      <td>29/03/2019</td>\n",
       "      <td>Fort Lauderdale</td>\n",
       "      <td>280 SL cabriolet hard-top automatique</td>\n",
       "      <td>RM Sotheby</td>\n",
       "      <td>44 060 €</td>\n",
       "      <td>REST</td>\n",
       "      <td>V</td>\n",
       "      <td>4175</td>\n",
       "    </tr>\n",
       "    <tr>\n",
       "      <th>...</th>\n",
       "      <td>...</td>\n",
       "      <td>...</td>\n",
       "      <td>...</td>\n",
       "      <td>...</td>\n",
       "      <td>...</td>\n",
       "      <td>...</td>\n",
       "      <td>...</td>\n",
       "      <td>...</td>\n",
       "      <td>...</td>\n",
       "    </tr>\n",
       "    <tr>\n",
       "      <th>109</th>\n",
       "      <td>MERCEDES</td>\n",
       "      <td>26/07/2006</td>\n",
       "      <td>Buxton</td>\n",
       "      <td>280 SL cabriolet hard-top RHD autom.</td>\n",
       "      <td>H &amp; H Classic Auctions</td>\n",
       "      <td>21 000 €</td>\n",
       "      <td>OR+</td>\n",
       "      <td>V</td>\n",
       "      <td>7</td>\n",
       "    </tr>\n",
       "    <tr>\n",
       "      <th>110</th>\n",
       "      <td>MERCEDES</td>\n",
       "      <td>22/07/2006</td>\n",
       "      <td>Nuremberg</td>\n",
       "      <td>280 SL cabriolet hard-top LHD, jantes alu</td>\n",
       "      <td>Coys Europe</td>\n",
       "      <td>37 000 €</td>\n",
       "      <td>REST+</td>\n",
       "      <td>V</td>\n",
       "      <td>7</td>\n",
       "    </tr>\n",
       "    <tr>\n",
       "      <th>111</th>\n",
       "      <td>MERCEDES</td>\n",
       "      <td>07/07/2006</td>\n",
       "      <td>Goodwood</td>\n",
       "      <td>280 SL cabriolet hard-top RHD autom.</td>\n",
       "      <td>Bonhams</td>\n",
       "      <td>8 250 €</td>\n",
       "      <td>OR</td>\n",
       "      <td>V</td>\n",
       "      <td>7</td>\n",
       "    </tr>\n",
       "    <tr>\n",
       "      <th>112</th>\n",
       "      <td>MERCEDES</td>\n",
       "      <td>02/04/2006</td>\n",
       "      <td>Fontainebleau</td>\n",
       "      <td>280 SL cabriolet + hard-top LHD</td>\n",
       "      <td>Jean-Pierre Osenat</td>\n",
       "      <td>25 000 €</td>\n",
       "      <td>REST</td>\n",
       "      <td>V</td>\n",
       "      <td>7</td>\n",
       "    </tr>\n",
       "    <tr>\n",
       "      <th>113</th>\n",
       "      <td>MERCEDES</td>\n",
       "      <td>14/03/2009</td>\n",
       "      <td>Saint-Leu-la-Forêt</td>\n",
       "      <td>280 SL cabriolet automatique + hard-top</td>\n",
       "      <td>SCP Riquier, Salvi, Gras</td>\n",
       "      <td>9 800 €</td>\n",
       "      <td>OR-</td>\n",
       "      <td>V</td>\n",
       "      <td>7</td>\n",
       "    </tr>\n",
       "  </tbody>\n",
       "</table>\n",
       "<p>107 rows × 9 columns</p>\n",
       "</div>"
      ],
      "text/plain": [
       "    auction_brand auction_date    auction_location  \\\n",
       "1        MERCEDES   13/07/2019          Brooklands   \n",
       "2        MERCEDES   29/05/2019              Auburn   \n",
       "3        MERCEDES   18/05/2019          Brooklands   \n",
       "4        MERCEDES   29/03/2019     Fort Lauderdale   \n",
       "5        MERCEDES   29/03/2019     Fort Lauderdale   \n",
       "..            ...          ...                 ...   \n",
       "109      MERCEDES   26/07/2006              Buxton   \n",
       "110      MERCEDES   22/07/2006           Nuremberg   \n",
       "111      MERCEDES   07/07/2006            Goodwood   \n",
       "112      MERCEDES   02/04/2006       Fontainebleau   \n",
       "113      MERCEDES   14/03/2009  Saint-Leu-la-Forêt   \n",
       "\n",
       "                                 auction_model         auction_organizor  \\\n",
       "1                    280 SL cabriolet hard-top   Historics at Brooklands   \n",
       "2                    280 SL cabriolet hard-top              RM Sotheby's   \n",
       "3                280 SL cabriolet hard-top RHD   Historics at Brooklands   \n",
       "4                    280 SL cabriolet hard-top                RM Sotheby   \n",
       "5        280 SL cabriolet hard-top automatique                RM Sotheby   \n",
       "..                                         ...                       ...   \n",
       "109       280 SL cabriolet hard-top RHD autom.    H & H Classic Auctions   \n",
       "110  280 SL cabriolet hard-top LHD, jantes alu               Coys Europe   \n",
       "111       280 SL cabriolet hard-top RHD autom.                   Bonhams   \n",
       "112            280 SL cabriolet + hard-top LHD        Jean-Pierre Osenat   \n",
       "113    280 SL cabriolet automatique + hard-top  SCP Riquier, Salvi, Gras   \n",
       "\n",
       "    auction_price auction_restauration_code auction_sales_code  quote_id  \n",
       "1        62 410 €                      REST                  V      4175  \n",
       "2        83 630 €                      REST                  V      4175  \n",
       "3       109 610 €                      REST                  V      4175  \n",
       "4        63 640 €                      REST                  V      4175  \n",
       "5        44 060 €                      REST                  V      4175  \n",
       "..            ...                       ...                ...       ...  \n",
       "109      21 000 €                       OR+                  V         7  \n",
       "110      37 000 €                     REST+                  V         7  \n",
       "111       8 250 €                        OR                  V         7  \n",
       "112      25 000 €                      REST                  V         7  \n",
       "113       9 800 €                       OR-                  V         7  \n",
       "\n",
       "[107 rows x 9 columns]"
      ]
     },
     "execution_count": 17,
     "metadata": {},
     "output_type": "execute_result"
    }
   ],
   "source": [
    "#remove unecessary column (empty valued)\n",
    "\n",
    "df = df.drop(columns=['auction_url', 'model','year'])\n",
    "df = df.dropna()\n",
    "df = df.drop_duplicates()\n",
    "print(\"shape: \",df.shape)\n",
    "df"
   ]
  },
  {
   "cell_type": "code",
   "execution_count": 18,
   "metadata": {},
   "outputs": [
    {
     "data": {
      "text/plain": [
       "array(['MERCEDES'], dtype=object)"
      ]
     },
     "execution_count": 18,
     "metadata": {},
     "output_type": "execute_result"
    }
   ],
   "source": [
    "## Consistency check on brand colmn\n",
    "df['auction_brand'].unique()"
   ]
  },
  {
   "cell_type": "code",
   "execution_count": 19,
   "metadata": {},
   "outputs": [],
   "source": [
    "#Set auction brand column format as String object\n",
    "df['auction_brand'] = df['auction_brand'].astype(str)"
   ]
  },
  {
   "cell_type": "code",
   "execution_count": 20,
   "metadata": {},
   "outputs": [],
   "source": [
    "#set the auction date column as a Datetime object\n",
    "df['auction_date'] = pd.to_datetime(df['auction_date'], format= '%d/%m/%Y')"
   ]
  },
  {
   "cell_type": "code",
   "execution_count": 21,
   "metadata": {},
   "outputs": [],
   "source": [
    "#set the price column format as a Float object with no currency formating anymore\n",
    "df = df[df['auction_price'].notna()]\n",
    "df['auction_price']= df['auction_price'].str.replace(\" \", \"\")\n",
    "df['auction_price']= df['auction_price'].str.replace(\"€\", \"\")\n",
    "df['auction_price'] = df['auction_price'].astype(float)"
   ]
  },
  {
   "cell_type": "code",
   "execution_count": 22,
   "metadata": {},
   "outputs": [
    {
     "name": "stdout",
     "output_type": "stream",
     "text": [
      "auction_brand                        object\n",
      "auction_date                 datetime64[ns]\n",
      "auction_location                     object\n",
      "auction_model                        object\n",
      "auction_organizor                    object\n",
      "auction_price                       float64\n",
      "auction_restauration_code            object\n",
      "auction_sales_code                   object\n",
      "quote_id                              int64\n",
      "dtype: object\n",
      "(107, 9)\n"
     ]
    }
   ],
   "source": [
    "#type check on the DF + Size check\n",
    "print (df.dtypes)\n",
    "print(df.shape)"
   ]
  },
  {
   "cell_type": "code",
   "execution_count": 23,
   "metadata": {},
   "outputs": [
    {
     "name": "stdout",
     "output_type": "stream",
     "text": [
      "44\n",
      "41\n"
     ]
    }
   ],
   "source": [
    "#cleaning of location\n",
    "count_unique_organizor = np.count_nonzero(df.auction_location.unique())\n",
    "print(count_unique_organizor)\n",
    "def clean_name(a,b):\n",
    "    df.auction_location.replace(a,b,inplace=True)\n",
    "\n",
    "clean_name('AmeliA IslAnd','Amelia Island')\n",
    "clean_name('Ascot', 'Ascott')\n",
    "clean_name('Auvers sur Oise','Auvers-sur-Oise')\n",
    "clean_name('EsvrEs sur IndrE','Esvres sur Indre')\n",
    "clean_name('Knokke le Zoute', 'Knokke-le-Zoute')\n",
    "clean_name('Le Plessis Bouchard','Le Plessis-Bouchard')\n",
    "clean_name('Lyon (Brotteaux)','Lyon')\n",
    "clean_name(\"Lyon (Epoqu'auto)\",'Lyon')\n",
    "clean_name(\"Lyon-Chassieu\",'Lyon')\n",
    "clean_name('Montastruc', 'Montastruc-la-Conseillère')\n",
    "clean_name('Montastruc la Conseillère', 'Montastruc-la-Conseillère')\n",
    "clean_name('Montastruc la conseillère', 'Montastruc-la-Conseillère')\n",
    "clean_name('OxfOrd', 'Oxford')\n",
    "clean_name('Paris (Bonhams)','Paris')\n",
    "clean_name('RomoRantin', 'Romorantin')\n",
    "clean_name('Saint-LoubèS','Saint-Loubès')\n",
    "clean_name('Salzburg',  'Salzbourg')\n",
    "clean_name('Zürich',  'Zurich')\n",
    "clean_name('ESVRES SUR INDRE', 'ESVRES-SUR-INDRE')\n",
    "clean_name('JOUY SUR MORIN', 'JOUY-SUR-MORIN')\n",
    "clean_name('KNOKKE LE ZOUTE', 'KNOKKE-LE-ZOUTE')\n",
    "clean_name('LE PLESSIS BOUCHARD','LE PLESSIS-BOUCHARD')\n",
    "clean_name('LYON (BROTTEAUX)','LYON')\n",
    "clean_name(\"LYON (EPOQU'AUTO)\",'LYON')\n",
    "clean_name(\"LYON-CHASSIEU\",'LYON')\n",
    "clean_name('MONACO (BONHAMS)','MONACO')\n",
    "clean_name('MONACO (COYS)','MONACO')\n",
    "clean_name('NEUILLY','NEUILLY SUR SEINE')\n",
    "clean_name('NOGENT LE ROTROU','NOGENT-LE-ROTROU')\n",
    "clean_name('PARIS (ARTCURIAL)','PARIS')\n",
    "clean_name('PARIS (BONHAMS)','PARIS')\n",
    "clean_name('PHOENIX (ARIZONA)','PHOENIX')\n",
    "clean_name('SCOTTSDALE (ARIZONA)','SCOTTSDALE')\n",
    "clean_name('STONELEIGH PARK','STONELEIGH')\n",
    "clean_name('CARMEL (QUAIL LODGE)','CARMEL')\n",
    "clean_name('LONDON','LONDRES')\n",
    "clean_name('ROMORANTIN-LANTHENAY','ROMORANTIN')\n",
    "\n",
    "\n",
    "df.auction_location = df.auction_location.str.upper()          \n",
    "sorted(df.auction_location.unique())\n",
    "count_unique_organizor = np.count_nonzero(df.auction_location.unique())\n",
    "print(count_unique_organizor)"
   ]
  },
  {
   "cell_type": "code",
   "execution_count": 24,
   "metadata": {},
   "outputs": [
    {
     "name": "stdout",
     "output_type": "stream",
     "text": [
      "28\n",
      "10\n"
     ]
    }
   ],
   "source": [
    "count_unique_organizor_a = np.count_nonzero(df.auction_organizor.unique())\n",
    "count_unique_rc_a = np.count_nonzero(df.auction_restauration_code.unique())\n",
    "print(count_unique_organizor_a)\n",
    "print(count_unique_rc_a)\n"
   ]
  },
  {
   "cell_type": "code",
   "execution_count": 25,
   "metadata": {},
   "outputs": [],
   "source": [
    "# df.auction_organizor.str.replace(r'(^.*RM.*$)', 'RM Sothebys')\n",
    "\n",
    "df.auction_organizor = df.auction_organizor.apply(lambda x: \"RM Sotheby's\" if \"RM\" in x else x)\n",
    "df.auction_organizor = df.auction_organizor.apply(lambda x: \"Bonhams\" if \"Bonhams\" in x else x)\n",
    "df.auction_organizor = df.auction_organizor.apply(lambda x: \"Artcurial\" if \"Artcurial\" in x else x)\n",
    "df.auction_organizor = df.auction_organizor.apply(lambda x: \"H & H Classic Auctions\" if \"H and H\" in x else x)\n",
    "df.auction_organizor = df.auction_organizor.apply(lambda x: \"H & H Classic Auctions\" if \"H & H\" in x else x)\n",
    "df.auction_organizor = df.auction_organizor.apply(lambda x: \"Gooding & Co\" if \"Gooding\" in x else x)\n",
    "df.auction_organizor = df.auction_organizor.apply(lambda x: \"Alcopa auction\" if \"Alcopa\" in x else x)\n",
    "df.auction_organizor = df.auction_organizor.apply(lambda x: \"SVV\" if \"SVV\" in x else x)\n",
    "df.auction_organizor = df.auction_organizor.apply(lambda x: \"Oldtimer Galerie Toffen \" if \"Oldtimer Galerie\" in x else x)\n",
    "df.auction_organizor = df.auction_organizor.apply(lambda x: \"Coys Auction \" if \"Coys\" in x else x)\n",
    "df.auction_organizor = df.auction_organizor.apply(lambda x: \"HdV\" if \"Hdv\" in x else x)\n",
    "df.auction_organizor = df.auction_organizor.apply(lambda x: \"HdV\" if \"HdV\" in x else x)\n",
    "df.auction_organizor = df.auction_organizor.apply(lambda x: \"HdV\" if \"HDV\" in x else x)\n",
    "df.auction_organizor = df.auction_organizor.apply(lambda x: \"Barons Auctions\" if \"Barons\" in x else x)\n",
    "df.auction_organizor = df.auction_organizor.apply(lambda x: \"Brooklands Auctions\" if \"Brooklands\" in x else x)\n",
    "df.auction_organizor = df.auction_organizor.apply(lambda x: \"Armor Enchères\" if \"Armor Enchères\" in x else x)\n",
    "df.auction_organizor = df.auction_organizor.apply(lambda x: \"BCA\" if \"BCA\" in x else x)\n",
    "df.auction_organizor = df.auction_organizor.apply(lambda x: \"Besch\" if \"Besch\" in x else x)\n",
    "df.auction_organizor = df.auction_organizor.apply(lambda x: \"Briscadieu\" if \"Briscadieu\" in x else x)\n",
    "df.auction_organizor = df.auction_organizor.apply(lambda x: \"Caen Enchères\" if \"Caen Enchères\" in x else x)\n",
    "df.auction_organizor = df.auction_organizor.apply(lambda x: \"Christie's\" if \"Christie\" in x else x)\n",
    "df.auction_organizor = df.auction_organizor.apply(lambda x: \"Caen Enchères\" if \"Caen Enchères\" in x else x)\n",
    "df.auction_organizor = df.auction_organizor.apply(lambda x: \"Cyril Duvals\" if \"Cyril Duval\" in x else x)\n",
    "df.auction_organizor = df.auction_organizor.apply(lambda x: \"Caen Enchères\" if \"Caen Enchères\" in x else x)\n",
    "df.auction_organizor = df.auction_organizor.apply(lambda x: \"Dorotheum\" if \"Dorotheum\" in x else x)\n",
    "df.auction_organizor = df.auction_organizor.apply(lambda x: \"FEE Machoir\" if \"FEE Machoir\" in x else x)\n",
    "df.auction_organizor = df.auction_organizor.apply(lambda x: \"Five Auction Tours\" if \"Five Auction Tours\" in x else x)\n",
    "df.auction_organizor = df.auction_organizor.apply(lambda x: \"Hôtel des Ventes\" if \"Hôtel des Ventes\" in x else x)\n",
    "df.auction_organizor = df.auction_organizor.apply(lambda x: \"J.P. Osenat\" if \"J\" in x else x)\n",
    "df.auction_organizor = df.auction_organizor.apply(lambda x: \"Leclère\" if \"Leclère\" in x else x)\n",
    "df.auction_organizor = df.auction_organizor.apply(lambda x: \"Lisieux Enchères\" if \"Lisieux Enchères\" in x else x)\n",
    "df.auction_organizor = df.auction_organizor.apply(lambda x: \"Marie Line Balsan\" if \"Marie Line Balsan\" in x else x)\n",
    "df.auction_organizor = df.auction_organizor.apply(lambda x: \"Me Arnaud-Lacroz\" if \"Me Arnaud-Lacroz\" in x else x)\n",
    "df.auction_organizor = df.auction_organizor.apply(lambda x: \"Me Arnaud-Lacroz\" if \"Lacroz\" in x else x)\n",
    "df.auction_organizor = df.auction_organizor.apply(lambda x: \"Leclère\" if \"Leclère\" in x else x)\n",
    "df.auction_organizor = df.auction_organizor.apply(lambda x: \"Montargis Enchères\" if \"Montargis\" in x else x)\n",
    "df.auction_organizor = df.auction_organizor.apply(lambda x: \"Orne Enchères\" if \"Orne Enchères\" in x else x)\n",
    "df.auction_organizor = df.auction_organizor.apply(lambda x: \"SCP\" if \"SCP\" in x else x)\n",
    "df.auction_organizor = df.auction_organizor.apply(lambda x: \"SdV\" if \"SdV\" in x else x)\n",
    "df.auction_organizor = df.auction_organizor.apply(lambda x: \"Silverstone Auctions\" if \"Silverstone\" in x else x)\n",
    "df.auction_organizor = df.auction_organizor.apply(lambda x: \"The Sportscar Auction Co.\" if \"The Sportscar Auction\" in x else x)\n",
    "df.auction_organizor = df.auction_organizor.apply(lambda x: \"Toutain-Vente\" if \"Toutain-Vente\" in x else x)\n",
    "df.auction_organizor = df.auction_organizor.apply(lambda x: \"FEE Machoïr\" if \"Machoïr\" in x else x)\n",
    "df.auction_organizor = df.auction_organizor.apply(lambda x: \"Hôtel des Ventes\" if 'Hôtel des Ventes' in x else x)\n",
    "df.auction_organizor = df.auction_organizor.apply(lambda x: \"AmeliA IslAnd\" if'Amelia Island' in x else x)\n"
   ]
  },
  {
   "cell_type": "code",
   "execution_count": 26,
   "metadata": {},
   "outputs": [
    {
     "data": {
      "text/plain": [
       "20"
      ]
     },
     "execution_count": 26,
     "metadata": {},
     "output_type": "execute_result"
    }
   ],
   "source": [
    "count_unique_organizor_b = np.count_nonzero(df.auction_organizor.unique())\n",
    "count_unique_organizor_b"
   ]
  },
  {
   "cell_type": "code",
   "execution_count": 27,
   "metadata": {},
   "outputs": [],
   "source": [
    "# plt.figure(figsize=(20,15))\n",
    "# y_pos = df['auction_organizor'].value_counts().plot(kind='bar')\n",
    "# plt.title('AuctionBrands Histogram')\n",
    "# plt.xlim([0,20])\n",
    "# plt.set(xlabel = 'Car Brand', ylabel='Frequency of auction_organizor')"
   ]
  },
  {
   "cell_type": "code",
   "execution_count": 28,
   "metadata": {},
   "outputs": [
    {
     "name": "stdout",
     "output_type": "stream",
     "text": [
      "Number of distinct auction organizors where the number of auction is higher to 25 auctions : 1\n"
     ]
    }
   ],
   "source": [
    "#preparation for dummy variables\n",
    "values = pd.Series(df.auction_organizor)\n",
    "counts = pd.value_counts(values)\n",
    "mask = values.isin(counts[counts > 25].index)\n",
    "applied_mask = values[mask]\n",
    "sorted(applied_mask.unique())\n",
    "applied_mask= np.count_nonzero(applied_mask.unique())\n",
    "print(\"Number of distinct auction organizors where the number of auction is higher to 25 auctions : {}\".format(applied_mask))"
   ]
  },
  {
   "cell_type": "code",
   "execution_count": 29,
   "metadata": {},
   "outputs": [
    {
     "data": {
      "text/plain": [
       "count       107.000000\n",
       "mean      72081.336449\n",
       "std       47522.229850\n",
       "min        3599.000000\n",
       "25%       35175.000000\n",
       "50%       65810.000000\n",
       "75%       92955.000000\n",
       "max      230000.000000\n",
       "Name: auction_price, dtype: float64"
      ]
     },
     "execution_count": 29,
     "metadata": {},
     "output_type": "execute_result"
    }
   ],
   "source": [
    "#Price column description \n",
    "df.auction_price.describe()"
   ]
  },
  {
   "cell_type": "code",
   "execution_count": 30,
   "metadata": {
    "scrolled": false
   },
   "outputs": [
    {
     "data": {
      "image/png": "[encoded data removed]",
      "text/plain": [
       "<Figure size 1440x576 with 2 Axes>"
      ]
     },
     "metadata": {
      "needs_background": "light"
     },
     "output_type": "display_data"
    }
   ],
   "source": [
    "plt.figure(figsize=(20,8))\n",
    "plt.subplot(1,2,1)\n",
    "plt.title('Car Price Distribution Plot')\n",
    "ax = sns.distplot(df.auction_price)\n",
    "ax.set(ylabel='intensity')\n",
    "ax.set_xscale(\"log\")\n",
    "plt.subplot(1,2,2)\n",
    "plt.title('Car Price Spread')\n",
    "g = sns.boxplot(y = df.auction_price)\n",
    "g.set_yscale(\"log\")\n",
    "plt.show()"
   ]
  },
  {
   "cell_type": "code",
   "execution_count": 31,
   "metadata": {},
   "outputs": [
    {
     "data": {
      "text/plain": [
       "(107, 9)"
      ]
     },
     "execution_count": 31,
     "metadata": {},
     "output_type": "execute_result"
    }
   ],
   "source": [
    "df = df.loc[(df!=0.00).any(1)]\n",
    "df.shape"
   ]
  },
  {
   "cell_type": "markdown",
   "metadata": {},
   "source": [
    "sorted(df.auction_model.unique())"
   ]
  },
  {
   "cell_type": "code",
   "execution_count": 32,
   "metadata": {},
   "outputs": [
    {
     "data": {
      "text/plain": [
       "7"
      ]
     },
     "execution_count": 32,
     "metadata": {},
     "output_type": "execute_result"
    }
   ],
   "source": [
    "np.count_nonzero(df.quote_id.unique())"
   ]
  },
  {
   "cell_type": "code",
   "execution_count": 33,
   "metadata": {},
   "outputs": [
    {
     "data": {
      "text/plain": [
       "Index(['auction_brand', 'auction_date', 'auction_location', 'auction_model',\n",
       "       'auction_organizor', 'auction_price', 'auction_restauration_code',\n",
       "       'auction_sales_code', 'quote_id'],\n",
       "      dtype='object')"
      ]
     },
     "execution_count": 33,
     "metadata": {},
     "output_type": "execute_result"
    }
   ],
   "source": [
    "df.columns"
   ]
  },
  {
   "cell_type": "markdown",
   "metadata": {},
   "source": [
    "# Data vizualization"
   ]
  },
  {
   "cell_type": "code",
   "execution_count": 34,
   "metadata": {
    "scrolled": true
   },
   "outputs": [
    {
     "name": "stdout",
     "output_type": "stream",
     "text": [
      "Mean: 72081.33644859813\n",
      "Std: 230000.0\n",
      "Min: 3599.0\n",
      "Median: 65810.0\n",
      "count       107.000000\n",
      "mean      72081.336449\n",
      "std       47522.229850\n",
      "min        3599.000000\n",
      "25%       35175.000000\n",
      "50%       65810.000000\n",
      "75%       92955.000000\n",
      "85%      109830.200000\n",
      "90%      135780.000000\n",
      "100%     230000.000000\n",
      "max      230000.000000\n",
      "Name: auction_price, dtype: float64\n"
     ]
    }
   ],
   "source": [
    "print(\"Mean:\",df.auction_price.mean())\n",
    "print(\"Std:\",df.auction_price.max())\n",
    "print(\"Min:\",df.auction_price.min())\n",
    "print(\"Median:\",df.auction_price.median())\n",
    "print(df.auction_price.describe(percentiles = [0.25,0.50,0.75,0.85,0.90,1]))"
   ]
  },
  {
   "cell_type": "code",
   "execution_count": 35,
   "metadata": {
    "scrolled": false
   },
   "outputs": [
    {
     "data": {
      "text/plain": [
       "[Text(0, 0.5, 'Frequency of company'), Text(0.5, 0, 'Car Brand')]"
      ]
     },
     "execution_count": 35,
     "metadata": {},
     "output_type": "execute_result"
    },
    {
     "data": {
      "image/png": "[encoded data removed]",
      "text/plain": [
       "<Figure size 1440x1080 with 3 Axes>"
      ]
     },
     "metadata": {
      "needs_background": "light"
     },
     "output_type": "display_data"
    }
   ],
   "source": [
    "plt.figure(figsize=(20, 15))\n",
    "\n",
    "plt.subplot(1,3,1)\n",
    "plt1 = df['auction_brand'].value_counts().plot(kind='bar')\n",
    "plt.title('AuctionBrands Histogram')\n",
    "plt1.set(xlabel = 'Car Brand', ylabel='Frequency of brand')\n",
    "\n",
    "plt.subplot(1,3,2)\n",
    "\n",
    "plt1 = df['auction_location'].value_counts().plot(kind='bar')\n",
    "plt.title('AuctionLocation Histogram')\n",
    "plt.xlim([0, 20])\n",
    "plt1.set(xlabel = 'Car Brand', ylabel='Frequency of location')\n",
    "\n",
    "plt.subplot(1,3,3)\n",
    "\n",
    "plt1 = df['auction_organizor'].value_counts().plot(kind='bar')\n",
    "plt.title('AuctionOrganizor Histogram')\n",
    "plt.xlim([0, 20])\n",
    "plt1.set(xlabel = 'Car Brand', ylabel='Frequency of company')\n",
    "\n"
   ]
  },
  {
   "cell_type": "code",
   "execution_count": 36,
   "metadata": {},
   "outputs": [
    {
     "data": {
      "image/png": "[encoded data removed]",
      "text/plain": [
       "<Figure size 576x432 with 1 Axes>"
      ]
     },
     "metadata": {
      "needs_background": "light"
     },
     "output_type": "display_data"
    }
   ],
   "source": [
    "dff = pd.DataFrame(df.groupby(['auction_brand'])['auction_price'].mean().sort_values(ascending = False))\n",
    "dff.plot.bar(figsize=(8,6))\n",
    "plt.title('Brand vs Average Price')\n",
    "plt.show()"
   ]
  },
  {
   "cell_type": "markdown",
   "metadata": {},
   "source": [
    "# TO_CSV "
   ]
  },
  {
   "cell_type": "code",
   "execution_count": 37,
   "metadata": {},
   "outputs": [],
   "source": [
    "df.to_csv(\"280sl_full_auction_cleaned.csv\", encoding='utf-8',date_format='%Y%m%d', index=False)"
   ]
  },
  {
   "cell_type": "code",
   "execution_count": 38,
   "metadata": {},
   "outputs": [],
   "source": [
    "dff =pd.read_csv(\"280sl_full_auction_cleaned.csv\")"
   ]
  },
  {
   "cell_type": "code",
   "execution_count": 39,
   "metadata": {},
   "outputs": [
    {
     "data": {
      "text/html": [
       "<div>\n",
       "<style scoped>\n",
       "    .dataframe tbody tr th:only-of-type {\n",
       "        vertical-align: middle;\n",
       "    }\n",
       "\n",
       "    .dataframe tbody tr th {\n",
       "        vertical-align: top;\n",
       "    }\n",
       "\n",
       "    .dataframe thead th {\n",
       "        text-align: right;\n",
       "    }\n",
       "</style>\n",
       "<table border=\"1\" class=\"dataframe\">\n",
       "  <thead>\n",
       "    <tr style=\"text-align: right;\">\n",
       "      <th></th>\n",
       "      <th>auction_brand</th>\n",
       "      <th>auction_date</th>\n",
       "      <th>auction_location</th>\n",
       "      <th>auction_model</th>\n",
       "      <th>auction_organizor</th>\n",
       "      <th>auction_price</th>\n",
       "      <th>auction_restauration_code</th>\n",
       "      <th>auction_sales_code</th>\n",
       "      <th>quote_id</th>\n",
       "    </tr>\n",
       "  </thead>\n",
       "  <tbody>\n",
       "    <tr>\n",
       "      <th>0</th>\n",
       "      <td>MERCEDES</td>\n",
       "      <td>20190713</td>\n",
       "      <td>BROOKLANDS</td>\n",
       "      <td>280 SL cabriolet hard-top</td>\n",
       "      <td>Brooklands Auctions</td>\n",
       "      <td>62410.0</td>\n",
       "      <td>REST</td>\n",
       "      <td>V</td>\n",
       "      <td>4175</td>\n",
       "    </tr>\n",
       "    <tr>\n",
       "      <th>1</th>\n",
       "      <td>MERCEDES</td>\n",
       "      <td>20190529</td>\n",
       "      <td>AUBURN</td>\n",
       "      <td>280 SL cabriolet hard-top</td>\n",
       "      <td>RM Sotheby's</td>\n",
       "      <td>83630.0</td>\n",
       "      <td>REST</td>\n",
       "      <td>V</td>\n",
       "      <td>4175</td>\n",
       "    </tr>\n",
       "    <tr>\n",
       "      <th>2</th>\n",
       "      <td>MERCEDES</td>\n",
       "      <td>20190518</td>\n",
       "      <td>BROOKLANDS</td>\n",
       "      <td>280 SL cabriolet hard-top RHD</td>\n",
       "      <td>Brooklands Auctions</td>\n",
       "      <td>109610.0</td>\n",
       "      <td>REST</td>\n",
       "      <td>V</td>\n",
       "      <td>4175</td>\n",
       "    </tr>\n",
       "    <tr>\n",
       "      <th>3</th>\n",
       "      <td>MERCEDES</td>\n",
       "      <td>20190329</td>\n",
       "      <td>FORT LAUDERDALE</td>\n",
       "      <td>280 SL cabriolet hard-top</td>\n",
       "      <td>RM Sotheby's</td>\n",
       "      <td>63640.0</td>\n",
       "      <td>REST</td>\n",
       "      <td>V</td>\n",
       "      <td>4175</td>\n",
       "    </tr>\n",
       "    <tr>\n",
       "      <th>4</th>\n",
       "      <td>MERCEDES</td>\n",
       "      <td>20190329</td>\n",
       "      <td>FORT LAUDERDALE</td>\n",
       "      <td>280 SL cabriolet hard-top automatique</td>\n",
       "      <td>RM Sotheby's</td>\n",
       "      <td>44060.0</td>\n",
       "      <td>REST</td>\n",
       "      <td>V</td>\n",
       "      <td>4175</td>\n",
       "    </tr>\n",
       "    <tr>\n",
       "      <th>...</th>\n",
       "      <td>...</td>\n",
       "      <td>...</td>\n",
       "      <td>...</td>\n",
       "      <td>...</td>\n",
       "      <td>...</td>\n",
       "      <td>...</td>\n",
       "      <td>...</td>\n",
       "      <td>...</td>\n",
       "      <td>...</td>\n",
       "    </tr>\n",
       "    <tr>\n",
       "      <th>102</th>\n",
       "      <td>MERCEDES</td>\n",
       "      <td>20060726</td>\n",
       "      <td>BUXTON</td>\n",
       "      <td>280 SL cabriolet hard-top RHD autom.</td>\n",
       "      <td>H &amp; H Classic Auctions</td>\n",
       "      <td>21000.0</td>\n",
       "      <td>OR+</td>\n",
       "      <td>V</td>\n",
       "      <td>7</td>\n",
       "    </tr>\n",
       "    <tr>\n",
       "      <th>103</th>\n",
       "      <td>MERCEDES</td>\n",
       "      <td>20060722</td>\n",
       "      <td>NUREMBERG</td>\n",
       "      <td>280 SL cabriolet hard-top LHD, jantes alu</td>\n",
       "      <td>Coys Auction</td>\n",
       "      <td>37000.0</td>\n",
       "      <td>REST+</td>\n",
       "      <td>V</td>\n",
       "      <td>7</td>\n",
       "    </tr>\n",
       "    <tr>\n",
       "      <th>104</th>\n",
       "      <td>MERCEDES</td>\n",
       "      <td>20060707</td>\n",
       "      <td>GOODWOOD</td>\n",
       "      <td>280 SL cabriolet hard-top RHD autom.</td>\n",
       "      <td>Bonhams</td>\n",
       "      <td>8250.0</td>\n",
       "      <td>OR</td>\n",
       "      <td>V</td>\n",
       "      <td>7</td>\n",
       "    </tr>\n",
       "    <tr>\n",
       "      <th>105</th>\n",
       "      <td>MERCEDES</td>\n",
       "      <td>20060402</td>\n",
       "      <td>FONTAINEBLEAU</td>\n",
       "      <td>280 SL cabriolet + hard-top LHD</td>\n",
       "      <td>J.P. Osenat</td>\n",
       "      <td>25000.0</td>\n",
       "      <td>REST</td>\n",
       "      <td>V</td>\n",
       "      <td>7</td>\n",
       "    </tr>\n",
       "    <tr>\n",
       "      <th>106</th>\n",
       "      <td>MERCEDES</td>\n",
       "      <td>20090314</td>\n",
       "      <td>SAINT-LEU-LA-FORÊT</td>\n",
       "      <td>280 SL cabriolet automatique + hard-top</td>\n",
       "      <td>SCP</td>\n",
       "      <td>9800.0</td>\n",
       "      <td>OR-</td>\n",
       "      <td>V</td>\n",
       "      <td>7</td>\n",
       "    </tr>\n",
       "  </tbody>\n",
       "</table>\n",
       "<p>107 rows × 9 columns</p>\n",
       "</div>"
      ],
      "text/plain": [
       "    auction_brand  auction_date    auction_location  \\\n",
       "0        MERCEDES      20190713          BROOKLANDS   \n",
       "1        MERCEDES      20190529              AUBURN   \n",
       "2        MERCEDES      20190518          BROOKLANDS   \n",
       "3        MERCEDES      20190329     FORT LAUDERDALE   \n",
       "4        MERCEDES      20190329     FORT LAUDERDALE   \n",
       "..            ...           ...                 ...   \n",
       "102      MERCEDES      20060726              BUXTON   \n",
       "103      MERCEDES      20060722           NUREMBERG   \n",
       "104      MERCEDES      20060707            GOODWOOD   \n",
       "105      MERCEDES      20060402       FONTAINEBLEAU   \n",
       "106      MERCEDES      20090314  SAINT-LEU-LA-FORÊT   \n",
       "\n",
       "                                 auction_model       auction_organizor  \\\n",
       "0                    280 SL cabriolet hard-top     Brooklands Auctions   \n",
       "1                    280 SL cabriolet hard-top            RM Sotheby's   \n",
       "2                280 SL cabriolet hard-top RHD     Brooklands Auctions   \n",
       "3                    280 SL cabriolet hard-top            RM Sotheby's   \n",
       "4        280 SL cabriolet hard-top automatique            RM Sotheby's   \n",
       "..                                         ...                     ...   \n",
       "102       280 SL cabriolet hard-top RHD autom.  H & H Classic Auctions   \n",
       "103  280 SL cabriolet hard-top LHD, jantes alu           Coys Auction    \n",
       "104       280 SL cabriolet hard-top RHD autom.                 Bonhams   \n",
       "105            280 SL cabriolet + hard-top LHD             J.P. Osenat   \n",
       "106    280 SL cabriolet automatique + hard-top                     SCP   \n",
       "\n",
       "     auction_price auction_restauration_code auction_sales_code  quote_id  \n",
       "0          62410.0                      REST                  V      4175  \n",
       "1          83630.0                      REST                  V      4175  \n",
       "2         109610.0                      REST                  V      4175  \n",
       "3          63640.0                      REST                  V      4175  \n",
       "4          44060.0                      REST                  V      4175  \n",
       "..             ...                       ...                ...       ...  \n",
       "102        21000.0                       OR+                  V         7  \n",
       "103        37000.0                     REST+                  V         7  \n",
       "104         8250.0                        OR                  V         7  \n",
       "105        25000.0                      REST                  V         7  \n",
       "106         9800.0                       OR-                  V         7  \n",
       "\n",
       "[107 rows x 9 columns]"
      ]
     },
     "execution_count": 39,
     "metadata": {},
     "output_type": "execute_result"
    }
   ],
   "source": [
    "dff"
   ]
  },
  {
   "cell_type": "code",
   "execution_count": null,
   "metadata": {},
   "outputs": [],
   "source": []
  }
 ],
 "metadata": {
  "kernelspec": {
   "display_name": "Python 3",
   "language": "python",
   "name": "python3"
  },
  "language_info": {
   "codemirror_mode": {
    "name": "ipython",
    "version": 3
   },
   "file_extension": ".py",
   "mimetype": "text/x-python",
   "name": "python",
   "nbconvert_exporter": "python",
   "pygments_lexer": "ipython3",
   "version": "3.8.3"
  }
 },
 "nbformat": 4,
 "nbformat_minor": 4
}
