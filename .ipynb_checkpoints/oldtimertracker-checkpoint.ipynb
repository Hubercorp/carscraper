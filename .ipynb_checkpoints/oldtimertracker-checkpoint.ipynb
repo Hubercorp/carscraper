{
 "cells": [
  {
   "cell_type": "markdown",
   "metadata": {},
   "source": [
    "# Imports"
   ]
  },
  {
   "cell_type": "code",
   "execution_count": 95,
   "metadata": {},
   "outputs": [],
   "source": [
    "#import of the libraries\n",
    "import numpy as np\n",
    "import pandas as pd\n",
    "import matplotlib.pyplot as plt\n",
    "import seaborn as sns\n",
    "import glob"
   ]
  },
  {
   "cell_type": "code",
   "execution_count": 96,
   "metadata": {},
   "outputs": [],
   "source": [
    "#import of the auction csv file\n",
    "path = r'C:\\Users\\portable\\oldtimertrends\\auction' # to use it, change set your own path\n",
    "all_files = glob.glob(path + \"/*.csv\")\n",
    "\n",
    "#list of csv file\n",
    "auction_list = []\n",
    "\n",
    "for filename in all_files:\n",
    "    #print(filename)\n",
    "    df = pd.read_csv(filename, index_col=None, header=0)\n",
    "    #print(df.shape)\n",
    "    auction_list.append(df)\n",
    "\n",
    "df = pd.concat(auction_list, axis=0, ignore_index=True)"
   ]
  },
  {
   "cell_type": "markdown",
   "metadata": {},
   "source": [
    "# Overview of the DF"
   ]
  },
  {
   "cell_type": "code",
   "execution_count": 97,
   "metadata": {},
   "outputs": [
    {
     "data": {
      "text/html": [
       "<div>\n",
       "<style scoped>\n",
       "    .dataframe tbody tr th:only-of-type {\n",
       "        vertical-align: middle;\n",
       "    }\n",
       "\n",
       "    .dataframe tbody tr th {\n",
       "        vertical-align: top;\n",
       "    }\n",
       "\n",
       "    .dataframe thead th {\n",
       "        text-align: right;\n",
       "    }\n",
       "</style>\n",
       "<table border=\"1\" class=\"dataframe\">\n",
       "  <thead>\n",
       "    <tr style=\"text-align: right;\">\n",
       "      <th></th>\n",
       "      <th>auction_brand</th>\n",
       "      <th>auction_date</th>\n",
       "      <th>auction_location</th>\n",
       "      <th>auction_model</th>\n",
       "      <th>auction_organizor</th>\n",
       "      <th>auction_price</th>\n",
       "      <th>auction_restauration_code</th>\n",
       "      <th>auction_sales_code</th>\n",
       "      <th>auction_url</th>\n",
       "      <th>model</th>\n",
       "      <th>quote_id</th>\n",
       "      <th>year</th>\n",
       "    </tr>\n",
       "  </thead>\n",
       "  <tbody>\n",
       "    <tr>\n",
       "      <th>0</th>\n",
       "      <td>NaN</td>\n",
       "      <td>NaN</td>\n",
       "      <td>NaN</td>\n",
       "      <td>NaN</td>\n",
       "      <td>NaN</td>\n",
       "      <td>NaN</td>\n",
       "      <td>NaN</td>\n",
       "      <td>NaN</td>\n",
       "      <td>NaN</td>\n",
       "      <td>NaN</td>\n",
       "      <td>60</td>\n",
       "      <td>NaN</td>\n",
       "    </tr>\n",
       "    <tr>\n",
       "      <th>1</th>\n",
       "      <td>ALFA ROMEO</td>\n",
       "      <td>18/01/2018</td>\n",
       "      <td>Phoenix</td>\n",
       "      <td>G 1 biplace course</td>\n",
       "      <td>RM Sotheby's</td>\n",
       "      <td>363 570 €</td>\n",
       "      <td>REST</td>\n",
       "      <td>V</td>\n",
       "      <td>NaN</td>\n",
       "      <td>NaN</td>\n",
       "      <td>60</td>\n",
       "      <td>NaN</td>\n",
       "    </tr>\n",
       "    <tr>\n",
       "      <th>2</th>\n",
       "      <td>NaN</td>\n",
       "      <td>NaN</td>\n",
       "      <td>NaN</td>\n",
       "      <td>NaN</td>\n",
       "      <td>NaN</td>\n",
       "      <td>NaN</td>\n",
       "      <td>NaN</td>\n",
       "      <td>NaN</td>\n",
       "      <td>NaN</td>\n",
       "      <td>NaN</td>\n",
       "      <td>73</td>\n",
       "      <td>NaN</td>\n",
       "    </tr>\n",
       "    <tr>\n",
       "      <th>3</th>\n",
       "      <td>ALFA ROMEO</td>\n",
       "      <td>26/06/2006</td>\n",
       "      <td>Londres</td>\n",
       "      <td>6 C 1750 Turismo cabriolet James Young (0412349)</td>\n",
       "      <td>Christie's</td>\n",
       "      <td>51 000 €</td>\n",
       "      <td>RAR</td>\n",
       "      <td>V</td>\n",
       "      <td>NaN</td>\n",
       "      <td>NaN</td>\n",
       "      <td>73</td>\n",
       "      <td>NaN</td>\n",
       "    </tr>\n",
       "    <tr>\n",
       "      <th>4</th>\n",
       "      <td>NaN</td>\n",
       "      <td>NaN</td>\n",
       "      <td>NaN</td>\n",
       "      <td>NaN</td>\n",
       "      <td>NaN</td>\n",
       "      <td>NaN</td>\n",
       "      <td>NaN</td>\n",
       "      <td>NaN</td>\n",
       "      <td>NaN</td>\n",
       "      <td>NaN</td>\n",
       "      <td>90</td>\n",
       "      <td>NaN</td>\n",
       "    </tr>\n",
       "    <tr>\n",
       "      <th>...</th>\n",
       "      <td>...</td>\n",
       "      <td>...</td>\n",
       "      <td>...</td>\n",
       "      <td>...</td>\n",
       "      <td>...</td>\n",
       "      <td>...</td>\n",
       "      <td>...</td>\n",
       "      <td>...</td>\n",
       "      <td>...</td>\n",
       "      <td>...</td>\n",
       "      <td>...</td>\n",
       "      <td>...</td>\n",
       "    </tr>\n",
       "    <tr>\n",
       "      <th>11310</th>\n",
       "      <td>VOLKSWAGEN</td>\n",
       "      <td>12/08/2012</td>\n",
       "      <td>Nysted</td>\n",
       "      <td>Typ 166 Schwimmwagen</td>\n",
       "      <td>RM Auctions</td>\n",
       "      <td>112 560 €</td>\n",
       "      <td>RAR</td>\n",
       "      <td>V</td>\n",
       "      <td>NaN</td>\n",
       "      <td>NaN</td>\n",
       "      <td>6968</td>\n",
       "      <td>NaN</td>\n",
       "    </tr>\n",
       "    <tr>\n",
       "      <th>11311</th>\n",
       "      <td>VOLKSWAGEN</td>\n",
       "      <td>13/11/2009</td>\n",
       "      <td>Le Gua</td>\n",
       "      <td>Typ 166 Schwimmwagen</td>\n",
       "      <td>Hermann Historica</td>\n",
       "      <td>84 000 €</td>\n",
       "      <td>REST</td>\n",
       "      <td>V</td>\n",
       "      <td>NaN</td>\n",
       "      <td>NaN</td>\n",
       "      <td>6968</td>\n",
       "      <td>NaN</td>\n",
       "    </tr>\n",
       "    <tr>\n",
       "      <th>11312</th>\n",
       "      <td>VOLKSWAGEN</td>\n",
       "      <td>14/06/2008</td>\n",
       "      <td>Le Gua</td>\n",
       "      <td>Typ 166 \"Schwimmwagen\"</td>\n",
       "      <td>Hermann Historica</td>\n",
       "      <td>120 000 €</td>\n",
       "      <td>REST</td>\n",
       "      <td>V</td>\n",
       "      <td>NaN</td>\n",
       "      <td>NaN</td>\n",
       "      <td>6968</td>\n",
       "      <td>NaN</td>\n",
       "    </tr>\n",
       "    <tr>\n",
       "      <th>11313</th>\n",
       "      <td>VOLKSWAGEN</td>\n",
       "      <td>10/05/2008</td>\n",
       "      <td>Monaco (Bonhams)</td>\n",
       "      <td>Typ 166 Schwimmwagen, moteur 1300</td>\n",
       "      <td>Bonhams SAM</td>\n",
       "      <td>130 000 €</td>\n",
       "      <td>REST+/TR</td>\n",
       "      <td>V</td>\n",
       "      <td>NaN</td>\n",
       "      <td>NaN</td>\n",
       "      <td>6968</td>\n",
       "      <td>NaN</td>\n",
       "    </tr>\n",
       "    <tr>\n",
       "      <th>11314</th>\n",
       "      <td>VOLKSWAGEN</td>\n",
       "      <td>12/11/2007</td>\n",
       "      <td>Vimoutiers</td>\n",
       "      <td>Typ 166 Schwimmwagen, moteur plus récent</td>\n",
       "      <td>Demade Enchères</td>\n",
       "      <td>68 000 €</td>\n",
       "      <td>RAR/TR</td>\n",
       "      <td>V</td>\n",
       "      <td>NaN</td>\n",
       "      <td>NaN</td>\n",
       "      <td>6968</td>\n",
       "      <td>NaN</td>\n",
       "    </tr>\n",
       "  </tbody>\n",
       "</table>\n",
       "<p>11315 rows × 12 columns</p>\n",
       "</div>"
      ],
      "text/plain": [
       "      auction_brand auction_date  auction_location  \\\n",
       "0               NaN          NaN               NaN   \n",
       "1        ALFA ROMEO   18/01/2018           Phoenix   \n",
       "2               NaN          NaN               NaN   \n",
       "3        ALFA ROMEO   26/06/2006           Londres   \n",
       "4               NaN          NaN               NaN   \n",
       "...             ...          ...               ...   \n",
       "11310    VOLKSWAGEN   12/08/2012            Nysted   \n",
       "11311    VOLKSWAGEN   13/11/2009            Le Gua   \n",
       "11312    VOLKSWAGEN   14/06/2008            Le Gua   \n",
       "11313    VOLKSWAGEN   10/05/2008  Monaco (Bonhams)   \n",
       "11314    VOLKSWAGEN   12/11/2007        Vimoutiers   \n",
       "\n",
       "                                          auction_model  auction_organizor  \\\n",
       "0                                                   NaN                NaN   \n",
       "1                                    G 1 biplace course       RM Sotheby's   \n",
       "2                                                   NaN                NaN   \n",
       "3      6 C 1750 Turismo cabriolet James Young (0412349)         Christie's   \n",
       "4                                                   NaN                NaN   \n",
       "...                                                 ...                ...   \n",
       "11310                              Typ 166 Schwimmwagen        RM Auctions   \n",
       "11311                              Typ 166 Schwimmwagen  Hermann Historica   \n",
       "11312                            Typ 166 \"Schwimmwagen\"  Hermann Historica   \n",
       "11313                 Typ 166 Schwimmwagen, moteur 1300        Bonhams SAM   \n",
       "11314          Typ 166 Schwimmwagen, moteur plus récent    Demade Enchères   \n",
       "\n",
       "      auction_price auction_restauration_code auction_sales_code  auction_url  \\\n",
       "0               NaN                       NaN                NaN          NaN   \n",
       "1         363 570 €                      REST                  V          NaN   \n",
       "2               NaN                       NaN                NaN          NaN   \n",
       "3          51 000 €                       RAR                  V          NaN   \n",
       "4               NaN                       NaN                NaN          NaN   \n",
       "...             ...                       ...                ...          ...   \n",
       "11310     112 560 €                       RAR                  V          NaN   \n",
       "11311      84 000 €                      REST                  V          NaN   \n",
       "11312     120 000 €                      REST                  V          NaN   \n",
       "11313     130 000 €                  REST+/TR                  V          NaN   \n",
       "11314      68 000 €                    RAR/TR                  V          NaN   \n",
       "\n",
       "       model  quote_id  year  \n",
       "0        NaN        60   NaN  \n",
       "1        NaN        60   NaN  \n",
       "2        NaN        73   NaN  \n",
       "3        NaN        73   NaN  \n",
       "4        NaN        90   NaN  \n",
       "...      ...       ...   ...  \n",
       "11310    NaN      6968   NaN  \n",
       "11311    NaN      6968   NaN  \n",
       "11312    NaN      6968   NaN  \n",
       "11313    NaN      6968   NaN  \n",
       "11314    NaN      6968   NaN  \n",
       "\n",
       "[11315 rows x 12 columns]"
      ]
     },
     "execution_count": 97,
     "metadata": {},
     "output_type": "execute_result"
    }
   ],
   "source": [
    "df"
   ]
  },
  {
   "cell_type": "code",
   "execution_count": 98,
   "metadata": {},
   "outputs": [
    {
     "data": {
      "text/plain": [
       "Index(['auction_brand', 'auction_date', 'auction_location', 'auction_model',\n",
       "       'auction_organizor', 'auction_price', 'auction_restauration_code',\n",
       "       'auction_sales_code', 'auction_url', 'model', 'quote_id', 'year'],\n",
       "      dtype='object')"
      ]
     },
     "execution_count": 98,
     "metadata": {},
     "output_type": "execute_result"
    }
   ],
   "source": [
    "#check of the column names\n",
    "df.columns"
   ]
  },
  {
   "cell_type": "markdown",
   "metadata": {},
   "source": [
    "# Data cleaning"
   ]
  },
  {
   "cell_type": "code",
   "execution_count": 99,
   "metadata": {},
   "outputs": [
    {
     "name": "stdout",
     "output_type": "stream",
     "text": [
      "shape:  (9173, 9)\n"
     ]
    },
    {
     "data": {
      "text/html": [
       "<div>\n",
       "<style scoped>\n",
       "    .dataframe tbody tr th:only-of-type {\n",
       "        vertical-align: middle;\n",
       "    }\n",
       "\n",
       "    .dataframe tbody tr th {\n",
       "        vertical-align: top;\n",
       "    }\n",
       "\n",
       "    .dataframe thead th {\n",
       "        text-align: right;\n",
       "    }\n",
       "</style>\n",
       "<table border=\"1\" class=\"dataframe\">\n",
       "  <thead>\n",
       "    <tr style=\"text-align: right;\">\n",
       "      <th></th>\n",
       "      <th>auction_brand</th>\n",
       "      <th>auction_date</th>\n",
       "      <th>auction_location</th>\n",
       "      <th>auction_model</th>\n",
       "      <th>auction_organizor</th>\n",
       "      <th>auction_price</th>\n",
       "      <th>auction_restauration_code</th>\n",
       "      <th>auction_sales_code</th>\n",
       "      <th>quote_id</th>\n",
       "    </tr>\n",
       "  </thead>\n",
       "  <tbody>\n",
       "    <tr>\n",
       "      <th>1</th>\n",
       "      <td>ALFA ROMEO</td>\n",
       "      <td>18/01/2018</td>\n",
       "      <td>Phoenix</td>\n",
       "      <td>G 1 biplace course</td>\n",
       "      <td>RM Sotheby's</td>\n",
       "      <td>363 570 €</td>\n",
       "      <td>REST</td>\n",
       "      <td>V</td>\n",
       "      <td>60</td>\n",
       "    </tr>\n",
       "    <tr>\n",
       "      <th>3</th>\n",
       "      <td>ALFA ROMEO</td>\n",
       "      <td>26/06/2006</td>\n",
       "      <td>Londres</td>\n",
       "      <td>6 C 1750 Turismo cabriolet James Young (0412349)</td>\n",
       "      <td>Christie's</td>\n",
       "      <td>51 000 €</td>\n",
       "      <td>RAR</td>\n",
       "      <td>V</td>\n",
       "      <td>73</td>\n",
       "    </tr>\n",
       "    <tr>\n",
       "      <th>5</th>\n",
       "      <td>ALFA ROMEO</td>\n",
       "      <td>25/11/2016</td>\n",
       "      <td>Milan</td>\n",
       "      <td>6 C 2500 Freccia d'Oro coach</td>\n",
       "      <td>RM Sotheby's</td>\n",
       "      <td>156 800 €</td>\n",
       "      <td>RAR</td>\n",
       "      <td>V</td>\n",
       "      <td>90</td>\n",
       "    </tr>\n",
       "    <tr>\n",
       "      <th>6</th>\n",
       "      <td>ALFA ROMEO</td>\n",
       "      <td>06/02/2014</td>\n",
       "      <td>Paris</td>\n",
       "      <td>6 C 2500 Freccia d'Oro coach tout alu</td>\n",
       "      <td>Bonhams</td>\n",
       "      <td>86 250 €</td>\n",
       "      <td>REC</td>\n",
       "      <td>V</td>\n",
       "      <td>90</td>\n",
       "    </tr>\n",
       "    <tr>\n",
       "      <th>7</th>\n",
       "      <td>ALFA ROMEO</td>\n",
       "      <td>19/02/2007</td>\n",
       "      <td>Paris</td>\n",
       "      <td>6 C 2500 Sport Freccia d'Oro coach (916218)</td>\n",
       "      <td>Artcurial Briest, Le Fur, Poulai</td>\n",
       "      <td>53 000 €</td>\n",
       "      <td>OR</td>\n",
       "      <td>V</td>\n",
       "      <td>90</td>\n",
       "    </tr>\n",
       "    <tr>\n",
       "      <th>...</th>\n",
       "      <td>...</td>\n",
       "      <td>...</td>\n",
       "      <td>...</td>\n",
       "      <td>...</td>\n",
       "      <td>...</td>\n",
       "      <td>...</td>\n",
       "      <td>...</td>\n",
       "      <td>...</td>\n",
       "      <td>...</td>\n",
       "    </tr>\n",
       "    <tr>\n",
       "      <th>11310</th>\n",
       "      <td>VOLKSWAGEN</td>\n",
       "      <td>12/08/2012</td>\n",
       "      <td>Nysted</td>\n",
       "      <td>Typ 166 Schwimmwagen</td>\n",
       "      <td>RM Auctions</td>\n",
       "      <td>112 560 €</td>\n",
       "      <td>RAR</td>\n",
       "      <td>V</td>\n",
       "      <td>6968</td>\n",
       "    </tr>\n",
       "    <tr>\n",
       "      <th>11311</th>\n",
       "      <td>VOLKSWAGEN</td>\n",
       "      <td>13/11/2009</td>\n",
       "      <td>Le Gua</td>\n",
       "      <td>Typ 166 Schwimmwagen</td>\n",
       "      <td>Hermann Historica</td>\n",
       "      <td>84 000 €</td>\n",
       "      <td>REST</td>\n",
       "      <td>V</td>\n",
       "      <td>6968</td>\n",
       "    </tr>\n",
       "    <tr>\n",
       "      <th>11312</th>\n",
       "      <td>VOLKSWAGEN</td>\n",
       "      <td>14/06/2008</td>\n",
       "      <td>Le Gua</td>\n",
       "      <td>Typ 166 \"Schwimmwagen\"</td>\n",
       "      <td>Hermann Historica</td>\n",
       "      <td>120 000 €</td>\n",
       "      <td>REST</td>\n",
       "      <td>V</td>\n",
       "      <td>6968</td>\n",
       "    </tr>\n",
       "    <tr>\n",
       "      <th>11313</th>\n",
       "      <td>VOLKSWAGEN</td>\n",
       "      <td>10/05/2008</td>\n",
       "      <td>Monaco (Bonhams)</td>\n",
       "      <td>Typ 166 Schwimmwagen, moteur 1300</td>\n",
       "      <td>Bonhams SAM</td>\n",
       "      <td>130 000 €</td>\n",
       "      <td>REST+/TR</td>\n",
       "      <td>V</td>\n",
       "      <td>6968</td>\n",
       "    </tr>\n",
       "    <tr>\n",
       "      <th>11314</th>\n",
       "      <td>VOLKSWAGEN</td>\n",
       "      <td>12/11/2007</td>\n",
       "      <td>Vimoutiers</td>\n",
       "      <td>Typ 166 Schwimmwagen, moteur plus récent</td>\n",
       "      <td>Demade Enchères</td>\n",
       "      <td>68 000 €</td>\n",
       "      <td>RAR/TR</td>\n",
       "      <td>V</td>\n",
       "      <td>6968</td>\n",
       "    </tr>\n",
       "  </tbody>\n",
       "</table>\n",
       "<p>9173 rows × 9 columns</p>\n",
       "</div>"
      ],
      "text/plain": [
       "      auction_brand auction_date  auction_location  \\\n",
       "1        ALFA ROMEO   18/01/2018           Phoenix   \n",
       "3        ALFA ROMEO   26/06/2006           Londres   \n",
       "5        ALFA ROMEO   25/11/2016             Milan   \n",
       "6        ALFA ROMEO   06/02/2014             Paris   \n",
       "7        ALFA ROMEO   19/02/2007             Paris   \n",
       "...             ...          ...               ...   \n",
       "11310    VOLKSWAGEN   12/08/2012            Nysted   \n",
       "11311    VOLKSWAGEN   13/11/2009            Le Gua   \n",
       "11312    VOLKSWAGEN   14/06/2008            Le Gua   \n",
       "11313    VOLKSWAGEN   10/05/2008  Monaco (Bonhams)   \n",
       "11314    VOLKSWAGEN   12/11/2007        Vimoutiers   \n",
       "\n",
       "                                          auction_model  \\\n",
       "1                                    G 1 biplace course   \n",
       "3      6 C 1750 Turismo cabriolet James Young (0412349)   \n",
       "5                          6 C 2500 Freccia d'Oro coach   \n",
       "6                 6 C 2500 Freccia d'Oro coach tout alu   \n",
       "7           6 C 2500 Sport Freccia d'Oro coach (916218)   \n",
       "...                                                 ...   \n",
       "11310                              Typ 166 Schwimmwagen   \n",
       "11311                              Typ 166 Schwimmwagen   \n",
       "11312                            Typ 166 \"Schwimmwagen\"   \n",
       "11313                 Typ 166 Schwimmwagen, moteur 1300   \n",
       "11314          Typ 166 Schwimmwagen, moteur plus récent   \n",
       "\n",
       "                      auction_organizor auction_price  \\\n",
       "1                          RM Sotheby's     363 570 €   \n",
       "3                            Christie's      51 000 €   \n",
       "5                          RM Sotheby's     156 800 €   \n",
       "6                               Bonhams      86 250 €   \n",
       "7      Artcurial Briest, Le Fur, Poulai      53 000 €   \n",
       "...                                 ...           ...   \n",
       "11310                       RM Auctions     112 560 €   \n",
       "11311                 Hermann Historica      84 000 €   \n",
       "11312                 Hermann Historica     120 000 €   \n",
       "11313                       Bonhams SAM     130 000 €   \n",
       "11314                   Demade Enchères      68 000 €   \n",
       "\n",
       "      auction_restauration_code auction_sales_code  quote_id  \n",
       "1                          REST                  V        60  \n",
       "3                           RAR                  V        73  \n",
       "5                           RAR                  V        90  \n",
       "6                           REC                  V        90  \n",
       "7                            OR                  V        90  \n",
       "...                         ...                ...       ...  \n",
       "11310                       RAR                  V      6968  \n",
       "11311                      REST                  V      6968  \n",
       "11312                      REST                  V      6968  \n",
       "11313                  REST+/TR                  V      6968  \n",
       "11314                    RAR/TR                  V      6968  \n",
       "\n",
       "[9173 rows x 9 columns]"
      ]
     },
     "execution_count": 99,
     "metadata": {},
     "output_type": "execute_result"
    }
   ],
   "source": [
    "#remove unecessary column (empty valued)\n",
    "\n",
    "df = df.drop(columns=['auction_url', 'model','year'])\n",
    "df = df.dropna()\n",
    "df = df.drop_duplicates()\n",
    "print(\"shape: \",df.shape)\n",
    "df"
   ]
  },
  {
   "cell_type": "code",
   "execution_count": 100,
   "metadata": {},
   "outputs": [
    {
     "data": {
      "text/plain": [
       "array(['ALFA ROMEO', 'ASTON MARTIN', 'AUDI', 'AUSTIN-HEALEY', 'BMW',\n",
       "       'JAGUAR', 'LANCIA', 'FIAT', 'PEUGEOT', 'VOLKSWAGEN', 'MERCEDES',\n",
       "       'MG', 'PORSCHE', 'RENAULT', 'TRIUMPH'], dtype=object)"
      ]
     },
     "execution_count": 100,
     "metadata": {},
     "output_type": "execute_result"
    }
   ],
   "source": [
    "## Consistency check on brand colmn\n",
    "df['auction_brand'].unique()"
   ]
  },
  {
   "cell_type": "code",
   "execution_count": 101,
   "metadata": {},
   "outputs": [],
   "source": [
    "#Set auction brand column format as String object\n",
    "df['auction_brand'] = df['auction_brand'].astype(str)"
   ]
  },
  {
   "cell_type": "code",
   "execution_count": 102,
   "metadata": {},
   "outputs": [],
   "source": [
    "#set the auction date column as a Datetime object\n",
    "df['auction_date'] = pd.to_datetime(df['auction_date'], format= '%d/%m/%Y')"
   ]
  },
  {
   "cell_type": "code",
   "execution_count": 103,
   "metadata": {},
   "outputs": [],
   "source": [
    "#set the price column format as a Float object with no currency formating anymore\n",
    "df = df[df['auction_price'].notna()]\n",
    "df['auction_price']= df['auction_price'].str.replace(\" \", \"\")\n",
    "df['auction_price']= df['auction_price'].str.replace(\"€\", \"\")\n",
    "df['auction_price'] = df['auction_price'].astype(float)"
   ]
  },
  {
   "cell_type": "code",
   "execution_count": 104,
   "metadata": {},
   "outputs": [
    {
     "name": "stdout",
     "output_type": "stream",
     "text": [
      "auction_brand                        object\n",
      "auction_date                 datetime64[ns]\n",
      "auction_location                     object\n",
      "auction_model                        object\n",
      "auction_organizor                    object\n",
      "auction_price                       float64\n",
      "auction_restauration_code            object\n",
      "auction_sales_code                   object\n",
      "quote_id                              int64\n",
      "dtype: object\n",
      "(9173, 9)\n"
     ]
    }
   ],
   "source": [
    "#type check on the DF + Size check\n",
    "print (df.dtypes)\n",
    "print(df.shape)"
   ]
  },
  {
   "cell_type": "code",
   "execution_count": 105,
   "metadata": {},
   "outputs": [
    {
     "name": "stdout",
     "output_type": "stream",
     "text": [
      "305\n",
      "277\n"
     ]
    }
   ],
   "source": [
    "#cleaning of location\n",
    "count_unique_organizor = np.count_nonzero(df.auction_location.unique())\n",
    "print(count_unique_organizor)\n",
    "def clean_name(a,b):\n",
    "    df.auction_location.replace(a,b,inplace=True)\n",
    "\n",
    "clean_name('AmeliA IslAnd','Amelia Island')\n",
    "clean_name('Ascot', 'Ascott')\n",
    "clean_name('Auvers sur Oise','Auvers-sur-Oise')\n",
    "clean_name('EsvrEs sur IndrE','Esvres sur Indre')\n",
    "clean_name('Knokke le Zoute', 'Knokke-le-Zoute')\n",
    "clean_name('Le Plessis Bouchard','Le Plessis-Bouchard')\n",
    "clean_name('Lyon (Brotteaux)','Lyon')\n",
    "clean_name(\"Lyon (Epoqu'auto)\",'Lyon')\n",
    "clean_name(\"Lyon-Chassieu\",'Lyon')\n",
    "clean_name('Montastruc', 'Montastruc-la-Conseillère')\n",
    "clean_name('Montastruc la Conseillère', 'Montastruc-la-Conseillère')\n",
    "clean_name('Montastruc la conseillère', 'Montastruc-la-Conseillère')\n",
    "clean_name('OxfOrd', 'Oxford')\n",
    "clean_name('Paris (Bonhams)','Paris')\n",
    "clean_name('RomoRantin', 'Romorantin')\n",
    "clean_name('Saint-LoubèS','Saint-Loubès')\n",
    "clean_name('Salzburg',  'Salzbourg')\n",
    "clean_name('Zürich',  'Zurich')\n",
    "clean_name('ESVRES SUR INDRE', 'ESVRES-SUR-INDRE')\n",
    "clean_name('JOUY SUR MORIN', 'JOUY-SUR-MORIN')\n",
    "clean_name('KNOKKE LE ZOUTE', 'KNOKKE-LE-ZOUTE')\n",
    "clean_name('LE PLESSIS BOUCHARD','LE PLESSIS-BOUCHARD')\n",
    "clean_name('LYON (BROTTEAUX)','LYON')\n",
    "clean_name(\"LYON (EPOQU'AUTO)\",'LYON')\n",
    "clean_name(\"LYON-CHASSIEU\",'LYON')\n",
    "clean_name('MONACO (BONHAMS)','MONACO')\n",
    "clean_name('MONACO (COYS)','MONACO')\n",
    "clean_name('NEUILLY','NEUILLY SUR SEINE')\n",
    "clean_name('NOGENT LE ROTROU','NOGENT-LE-ROTROU')\n",
    "clean_name('PARIS (ARTCURIAL)','PARIS')\n",
    "clean_name('PARIS (BONHAMS)','PARIS')\n",
    "clean_name('PHOENIX (ARIZONA)','PHOENIX')\n",
    "clean_name('SCOTTSDALE (ARIZONA)','SCOTTSDALE')\n",
    "clean_name('STONELEIGH PARK','STONELEIGH')\n",
    "clean_name('CARMEL (QUAIL LODGE)','CARMEL')\n",
    "clean_name('LONDON','LONDRES')\n",
    "clean_name('ROMORANTIN-LANTHENAY','ROMORANTIN')\n",
    "\n",
    "\n",
    "df.auction_location = df.auction_location.str.upper()          \n",
    "sorted(df.auction_location.unique())\n",
    "count_unique_organizor = np.count_nonzero(df.auction_location.unique())\n",
    "print(count_unique_organizor)"
   ]
  },
  {
   "cell_type": "code",
   "execution_count": 106,
   "metadata": {},
   "outputs": [
    {
     "name": "stdout",
     "output_type": "stream",
     "text": [
      "296\n",
      "49\n"
     ]
    }
   ],
   "source": [
    "count_unique_organizor_a = np.count_nonzero(df.auction_organizor.unique())\n",
    "count_unique_rc_a = np.count_nonzero(df.auction_restauration_code.unique())\n",
    "print(count_unique_organizor_a)\n",
    "print(count_unique_rc_a)\n"
   ]
  },
  {
   "cell_type": "code",
   "execution_count": 107,
   "metadata": {},
   "outputs": [],
   "source": [
    "# df.auction_organizor.str.replace(r'(^.*RM.*$)', 'RM Sothebys')\n",
    "\n",
    "df.auction_organizor = df.auction_organizor.apply(lambda x: \"RM Sotheby's\" if \"RM\" in x else x)\n",
    "df.auction_organizor = df.auction_organizor.apply(lambda x: \"Bonhams\" if \"Bonhams\" in x else x)\n",
    "df.auction_organizor = df.auction_organizor.apply(lambda x: \"Artcurial\" if \"Artcurial\" in x else x)\n",
    "df.auction_organizor = df.auction_organizor.apply(lambda x: \"H & H Classic Auctions\" if \"H and H\" in x else x)\n",
    "df.auction_organizor = df.auction_organizor.apply(lambda x: \"H & H Classic Auctions\" if \"H & H\" in x else x)\n",
    "df.auction_organizor = df.auction_organizor.apply(lambda x: \"Gooding & Co\" if \"Gooding\" in x else x)\n",
    "df.auction_organizor = df.auction_organizor.apply(lambda x: \"Alcopa auction\" if \"Alcopa\" in x else x)\n",
    "df.auction_organizor = df.auction_organizor.apply(lambda x: \"SVV\" if \"SVV\" in x else x)\n",
    "df.auction_organizor = df.auction_organizor.apply(lambda x: \"Oldtimer Galerie Toffen \" if \"Oldtimer Galerie\" in x else x)\n",
    "df.auction_organizor = df.auction_organizor.apply(lambda x: \"Coys Auction \" if \"Coys\" in x else x)\n",
    "df.auction_organizor = df.auction_organizor.apply(lambda x: \"HdV\" if \"Hdv\" in x else x)\n",
    "df.auction_organizor = df.auction_organizor.apply(lambda x: \"HdV\" if \"HdV\" in x else x)\n",
    "df.auction_organizor = df.auction_organizor.apply(lambda x: \"HdV\" if \"HDV\" in x else x)\n",
    "df.auction_organizor = df.auction_organizor.apply(lambda x: \"Barons Auctions\" if \"Barons\" in x else x)\n",
    "df.auction_organizor = df.auction_organizor.apply(lambda x: \"Brooklands Auctions\" if \"Brooklands\" in x else x)\n",
    "df.auction_organizor = df.auction_organizor.apply(lambda x: \"Armor Enchères\" if \"Armor Enchères\" in x else x)\n",
    "df.auction_organizor = df.auction_organizor.apply(lambda x: \"BCA\" if \"BCA\" in x else x)\n",
    "df.auction_organizor = df.auction_organizor.apply(lambda x: \"Besch\" if \"Besch\" in x else x)\n",
    "df.auction_organizor = df.auction_organizor.apply(lambda x: \"Briscadieu\" if \"Briscadieu\" in x else x)\n",
    "df.auction_organizor = df.auction_organizor.apply(lambda x: \"Caen Enchères\" if \"Caen Enchères\" in x else x)\n",
    "df.auction_organizor = df.auction_organizor.apply(lambda x: \"Christie's\" if \"Christie\" in x else x)\n",
    "df.auction_organizor = df.auction_organizor.apply(lambda x: \"Caen Enchères\" if \"Caen Enchères\" in x else x)\n",
    "df.auction_organizor = df.auction_organizor.apply(lambda x: \"Cyril Duvals\" if \"Cyril Duval\" in x else x)\n",
    "df.auction_organizor = df.auction_organizor.apply(lambda x: \"Caen Enchères\" if \"Caen Enchères\" in x else x)\n",
    "df.auction_organizor = df.auction_organizor.apply(lambda x: \"Dorotheum\" if \"Dorotheum\" in x else x)\n",
    "df.auction_organizor = df.auction_organizor.apply(lambda x: \"FEE Machoir\" if \"FEE Machoir\" in x else x)\n",
    "df.auction_organizor = df.auction_organizor.apply(lambda x: \"Five Auction Tours\" if \"Five Auction Tours\" in x else x)\n",
    "df.auction_organizor = df.auction_organizor.apply(lambda x: \"Hôtel des Ventes\" if \"Hôtel des Ventes\" in x else x)\n",
    "df.auction_organizor = df.auction_organizor.apply(lambda x: \"J.P. Osenat\" if \"J\" in x else x)\n",
    "df.auction_organizor = df.auction_organizor.apply(lambda x: \"Leclère\" if \"Leclère\" in x else x)\n",
    "df.auction_organizor = df.auction_organizor.apply(lambda x: \"Lisieux Enchères\" if \"Lisieux Enchères\" in x else x)\n",
    "df.auction_organizor = df.auction_organizor.apply(lambda x: \"Marie Line Balsan\" if \"Marie Line Balsan\" in x else x)\n",
    "df.auction_organizor = df.auction_organizor.apply(lambda x: \"Me Arnaud-Lacroz\" if \"Me Arnaud-Lacroz\" in x else x)\n",
    "df.auction_organizor = df.auction_organizor.apply(lambda x: \"Me Arnaud-Lacroz\" if \"Lacroz\" in x else x)\n",
    "df.auction_organizor = df.auction_organizor.apply(lambda x: \"Leclère\" if \"Leclère\" in x else x)\n",
    "df.auction_organizor = df.auction_organizor.apply(lambda x: \"Montargis Enchères\" if \"Montargis\" in x else x)\n",
    "df.auction_organizor = df.auction_organizor.apply(lambda x: \"Orne Enchères\" if \"Orne Enchères\" in x else x)\n",
    "df.auction_organizor = df.auction_organizor.apply(lambda x: \"SCP\" if \"SCP\" in x else x)\n",
    "df.auction_organizor = df.auction_organizor.apply(lambda x: \"SdV\" if \"SdV\" in x else x)\n",
    "df.auction_organizor = df.auction_organizor.apply(lambda x: \"Silverstone Auctions\" if \"Silverstone\" in x else x)\n",
    "df.auction_organizor = df.auction_organizor.apply(lambda x: \"The Sportscar Auction Co.\" if \"The Sportscar Auction\" in x else x)\n",
    "df.auction_organizor = df.auction_organizor.apply(lambda x: \"Toutain-Vente\" if \"Toutain-Vente\" in x else x)\n",
    "df.auction_organizor = df.auction_organizor.apply(lambda x: \"FEE Machoïr\" if \"Machoïr\" in x else x)\n",
    "df.auction_organizor = df.auction_organizor.apply(lambda x: \"Hôtel des Ventes\" if 'Hôtel des Ventes' in x else x)\n",
    "df.auction_organizor = df.auction_organizor.apply(lambda x: \"AmeliA IslAnd\" if'Amelia Island' in x else x)\n"
   ]
  },
  {
   "cell_type": "code",
   "execution_count": 108,
   "metadata": {},
   "outputs": [
    {
     "data": {
      "text/plain": [
       "134"
      ]
     },
     "execution_count": 108,
     "metadata": {},
     "output_type": "execute_result"
    }
   ],
   "source": [
    "count_unique_organizor_b = np.count_nonzero(df.auction_organizor.unique())\n",
    "count_unique_organizor_b"
   ]
  },
  {
   "cell_type": "code",
   "execution_count": 109,
   "metadata": {},
   "outputs": [],
   "source": [
    "# plt.figure(figsize=(20,15))\n",
    "# y_pos = df['auction_organizor'].value_counts().plot(kind='bar')\n",
    "# plt.title('AuctionBrands Histogram')\n",
    "# plt.xlim([0,20])\n",
    "# plt.set(xlabel = 'Car Brand', ylabel='Frequency of auction_organizor')"
   ]
  },
  {
   "cell_type": "code",
   "execution_count": 110,
   "metadata": {},
   "outputs": [
    {
     "name": "stdout",
     "output_type": "stream",
     "text": [
      "Number of distinct auction organizors where the number of auction is higher to 25 auctions : 32\n"
     ]
    }
   ],
   "source": [
    "#preparation for dummy variables\n",
    "values = pd.Series(df.auction_organizor)\n",
    "counts = pd.value_counts(values)\n",
    "mask = values.isin(counts[counts > 25].index)\n",
    "applied_mask = values[mask]\n",
    "sorted(applied_mask.unique())\n",
    "applied_mask= np.count_nonzero(applied_mask.unique())\n",
    "print(\"Number of distinct auction organizors where the number of auction is higher to 25 auctions : {}\".format(applied_mask))"
   ]
  },
  {
   "cell_type": "code",
   "execution_count": 111,
   "metadata": {},
   "outputs": [
    {
     "data": {
      "text/plain": [
       "count    9.173000e+03\n",
       "mean     1.463764e+05\n",
       "std      6.521932e+05\n",
       "min      0.000000e+00\n",
       "25%      9.520000e+03\n",
       "50%      3.024000e+04\n",
       "75%      9.430000e+04\n",
       "max      2.270186e+07\n",
       "Name: auction_price, dtype: float64"
      ]
     },
     "execution_count": 111,
     "metadata": {},
     "output_type": "execute_result"
    }
   ],
   "source": [
    "#Price column description \n",
    "df.auction_price.describe()"
   ]
  },
  {
   "cell_type": "code",
   "execution_count": 112,
   "metadata": {
    "scrolled": false
   },
   "outputs": [
    {
     "data": {
      "image/png": "[encoded data removed]",
      "text/plain": [
       "<Figure size 1440x576 with 2 Axes>"
      ]
     },
     "metadata": {
      "needs_background": "light"
     },
     "output_type": "display_data"
    }
   ],
   "source": [
    "plt.figure(figsize=(20,8))\n",
    "plt.subplot(1,2,1)\n",
    "plt.title('Car Price Distribution Plot')\n",
    "ax = sns.distplot(df.auction_price)\n",
    "ax.set(ylabel='intensity')\n",
    "ax.set_xscale(\"log\")\n",
    "plt.subplot(1,2,2)\n",
    "plt.title('Car Price Spread')\n",
    "g = sns.boxplot(y = df.auction_price)\n",
    "g.set_yscale(\"log\")\n",
    "plt.show()"
   ]
  },
  {
   "cell_type": "code",
   "execution_count": 117,
   "metadata": {},
   "outputs": [
    {
     "data": {
      "text/plain": [
       "(9173, 9)"
      ]
     },
     "execution_count": 117,
     "metadata": {},
     "output_type": "execute_result"
    }
   ],
   "source": [
    "df = df.loc[(df!=0.00).any(1)]\n",
    "df.shape"
   ]
  },
  {
   "cell_type": "markdown",
   "metadata": {},
   "source": [
    "sorted(df.auction_model.unique())"
   ]
  },
  {
   "cell_type": "code",
   "execution_count": 118,
   "metadata": {},
   "outputs": [
    {
     "data": {
      "text/plain": [
       "1439"
      ]
     },
     "execution_count": 118,
     "metadata": {},
     "output_type": "execute_result"
    }
   ],
   "source": [
    "np.count_nonzero(df.quote_id.unique())"
   ]
  },
  {
   "cell_type": "code",
   "execution_count": 119,
   "metadata": {},
   "outputs": [
    {
     "data": {
      "text/plain": [
       "Index(['auction_brand', 'auction_date', 'auction_location', 'auction_model',\n",
       "       'auction_organizor', 'auction_price', 'auction_restauration_code',\n",
       "       'auction_sales_code', 'quote_id'],\n",
       "      dtype='object')"
      ]
     },
     "execution_count": 119,
     "metadata": {},
     "output_type": "execute_result"
    }
   ],
   "source": [
    "df.columns"
   ]
  },
  {
   "cell_type": "markdown",
   "metadata": {},
   "source": [
    "# Data vizualization"
   ]
  },
  {
   "cell_type": "code",
   "execution_count": 120,
   "metadata": {
    "scrolled": true
   },
   "outputs": [
    {
     "name": "stdout",
     "output_type": "stream",
     "text": [
      "Mean: 146376.36171372505\n",
      "Std: 22701860.0\n",
      "Min: 0.0\n",
      "Median: 30240.0\n",
      "count    9.173000e+03\n",
      "mean     1.463764e+05\n",
      "std      6.521932e+05\n",
      "min      0.000000e+00\n",
      "25%      9.520000e+03\n",
      "50%      3.024000e+04\n",
      "75%      9.430000e+04\n",
      "85%      1.725000e+05\n",
      "90%      2.614400e+05\n",
      "100%     2.270186e+07\n",
      "max      2.270186e+07\n",
      "Name: auction_price, dtype: float64\n"
     ]
    }
   ],
   "source": [
    "print(\"Mean:\",df.auction_price.mean())\n",
    "print(\"Std:\",df.auction_price.max())\n",
    "print(\"Min:\",df.auction_price.min())\n",
    "print(\"Median:\",df.auction_price.median())\n",
    "print(df.auction_price.describe(percentiles = [0.25,0.50,0.75,0.85,0.90,1]))"
   ]
  },
  {
   "cell_type": "code",
   "execution_count": 122,
   "metadata": {
    "scrolled": false
   },
   "outputs": [
    {
     "data": {
      "text/plain": [
       "[Text(0, 0.5, 'Frequency of company'), Text(0.5, 0, 'Car Brand')]"
      ]
     },
     "execution_count": 122,
     "metadata": {},
     "output_type": "execute_result"
    },
    {
     "data": {
      "image/png": "[encoded data removed]",
      "text/plain": [
       "<Figure size 1440x1080 with 3 Axes>"
      ]
     },
     "metadata": {
      "needs_background": "light"
     },
     "output_type": "display_data"
    }
   ],
   "source": [
    "plt.figure(figsize=(20, 15))\n",
    "\n",
    "plt.subplot(1,3,1)\n",
    "plt1 = df['auction_brand'].value_counts().plot(kind='bar')\n",
    "plt.title('AuctionBrands Histogram')\n",
    "plt1.set(xlabel = 'Car Brand', ylabel='Frequency of brand')\n",
    "\n",
    "plt.subplot(1,3,2)\n",
    "\n",
    "plt1 = df['auction_location'].value_counts().plot(kind='bar')\n",
    "plt.title('AuctionLocation Histogram')\n",
    "plt.xlim([0, 20])\n",
    "plt1.set(xlabel = 'Car Brand', ylabel='Frequency of location')\n",
    "\n",
    "plt.subplot(1,3,3)\n",
    "\n",
    "plt1 = df['auction_organizor'].value_counts().plot(kind='bar')\n",
    "plt.title('AuctionOrganizor Histogram')\n",
    "plt.xlim([0, 20])\n",
    "plt1.set(xlabel = 'Car Brand', ylabel='Frequency of company')\n",
    "\n"
   ]
  },
  {
   "cell_type": "code",
   "execution_count": null,
   "metadata": {},
   "outputs": [],
   "source": [
    "dff = pd.DataFrame(df.groupby(['auction_brand'])['auction_price'].mean().sort_values(ascending = False))\n",
    "dff.plot.bar(figsize=(8,6))\n",
    "plt.title('Brand vs Average Price')\n",
    "plt.show()"
   ]
  },
  {
   "cell_type": "markdown",
   "metadata": {},
   "source": [
    "# TO_CSV "
   ]
  },
  {
   "cell_type": "code",
   "execution_count": null,
   "metadata": {},
   "outputs": [],
   "source": [
    "df.to_csv(\"full_auction_cleaned.csv\", encoding='utf-8',date_format='%Y%m%d', index=False)"
   ]
  }
 ],
 "metadata": {
  "kernelspec": {
   "display_name": "Python 3",
   "language": "python",
   "name": "python3"
  },
  "language_info": {
   "codemirror_mode": {
    "name": "ipython",
    "version": 3
   },
   "file_extension": ".py",
   "mimetype": "text/x-python",
   "name": "python",
   "nbconvert_exporter": "python",
   "pygments_lexer": "ipython3",
   "version": "3.8.3"
  }
 },
 "nbformat": 4,
 "nbformat_minor": 4
}
