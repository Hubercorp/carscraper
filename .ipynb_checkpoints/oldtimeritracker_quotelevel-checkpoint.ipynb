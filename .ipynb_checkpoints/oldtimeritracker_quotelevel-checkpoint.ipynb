{
 "cells": [
  {
   "cell_type": "code",
   "execution_count": 9,
   "metadata": {},
   "outputs": [],
   "source": [
    "import numpy as np\n",
    "import pandas as pd\n",
    "import matplotlib.pyplot as plt\n",
    "import seaborn as sns\n",
    "import glob"
   ]
  },
  {
   "cell_type": "code",
   "execution_count": 10,
   "metadata": {},
   "outputs": [
    {
     "name": "stdout",
     "output_type": "stream",
     "text": [
      "<class 'pandas.core.frame.DataFrame'>\n"
     ]
    }
   ],
   "source": [
    "#import of the auction csv file\n",
    "path = r'C:\\Users\\portable\\oldtimertrends\\quote' # to use it, change set your own path\n",
    "all_files = glob.glob(path + \"/*.csv\")\n",
    "\n",
    "#list of csv file\n",
    "auction_list = []\n",
    "\n",
    "for filename in all_files:\n",
    "    #print(filename)\n",
    "    df = pd.read_csv(filename, index_col=None, header=0)\n",
    "    #print(df.shape)\n",
    "    auction_list.append(df)\n",
    "\n",
    "df = pd.concat(auction_list, axis=0, ignore_index=True)\n",
    "print(type(df))"
   ]
  },
  {
   "cell_type": "code",
   "execution_count": 11,
   "metadata": {},
   "outputs": [
    {
     "ename": "SyntaxError",
     "evalue": "invalid syntax (<ipython-input-11-c2b1aab56454>, line 1)",
     "output_type": "error",
     "traceback": [
      "\u001b[1;36m  File \u001b[1;32m\"<ipython-input-11-c2b1aab56454>\"\u001b[1;36m, line \u001b[1;32m1\u001b[0m\n\u001b[1;33m    set the price column format as a Float object with no currency formating anymore\u001b[0m\n\u001b[1;37m        ^\u001b[0m\n\u001b[1;31mSyntaxError\u001b[0m\u001b[1;31m:\u001b[0m invalid syntax\n"
     ]
    }
   ],
   "source": [
    "# set the price column format as a Float object with no currency formating anymore\n",
    "df = df[df['quote_max_pricee'].notna()]\n",
    "df['quote_max_price']= df['quote_max_price'].str.replace(\" \", \"\")\n",
    "df['quote_max_price']= df['quote_max_price'].str.replace(\"€\", \"\")\n",
    "df['quote_max_price'] = df['quote_max_price'].astype(float)"
   ]
  },
  {
   "cell_type": "code",
   "execution_count": 12,
   "metadata": {},
   "outputs": [
    {
     "name": "stdout",
     "output_type": "stream",
     "text": [
      "<class 'pandas.core.frame.DataFrame'>\n"
     ]
    }
   ],
   "source": [
    "print(type(df))"
   ]
  },
  {
   "cell_type": "code",
   "execution_count": 13,
   "metadata": {},
   "outputs": [],
   "source": [
    "#sanitization\n",
    "df = df.dropna()"
   ]
  },
  {
   "cell_type": "code",
   "execution_count": 14,
   "metadata": {},
   "outputs": [],
   "source": [
    "df.to_csv(\"full_quote_cleaned.csv\", encoding='utf-8', index=False)"
   ]
  },
  {
   "cell_type": "code",
   "execution_count": 15,
   "metadata": {},
   "outputs": [
    {
     "data": {
      "text/html": [
       "<div>\n",
       "<style scoped>\n",
       "    .dataframe tbody tr th:only-of-type {\n",
       "        vertical-align: middle;\n",
       "    }\n",
       "\n",
       "    .dataframe tbody tr th {\n",
       "        vertical-align: top;\n",
       "    }\n",
       "\n",
       "    .dataframe thead th {\n",
       "        text-align: right;\n",
       "    }\n",
       "</style>\n",
       "<table border=\"1\" class=\"dataframe\">\n",
       "  <thead>\n",
       "    <tr style=\"text-align: right;\">\n",
       "      <th></th>\n",
       "      <th>auction_url</th>\n",
       "      <th>quote_id</th>\n",
       "      <th>quote_max_price</th>\n",
       "      <th>quote_model</th>\n",
       "      <th>quote_year</th>\n",
       "    </tr>\n",
       "  </thead>\n",
       "  <tbody>\n",
       "    <tr>\n",
       "      <th>1</th>\n",
       "      <td>cote.encheres.php?idCote=60</td>\n",
       "      <td>60.0</td>\n",
       "      <td>-------</td>\n",
       "      <td>12/15/20 HP torpédo</td>\n",
       "      <td>1910</td>\n",
       "    </tr>\n",
       "    <tr>\n",
       "      <th>2</th>\n",
       "      <td>cote.encheres.php?idCote=61</td>\n",
       "      <td>61.0</td>\n",
       "      <td>-------</td>\n",
       "      <td>24 HP torpédo</td>\n",
       "      <td>1911</td>\n",
       "    </tr>\n",
       "    <tr>\n",
       "      <th>7</th>\n",
       "      <td>cote.encheres.php?idCote=66</td>\n",
       "      <td>66.0</td>\n",
       "      <td>-------</td>\n",
       "      <td>RL Sport/RLSS torpédo</td>\n",
       "      <td>1922</td>\n",
       "    </tr>\n",
       "    <tr>\n",
       "      <th>8</th>\n",
       "      <td>cote.encheres.php?idCote=67</td>\n",
       "      <td>67.0</td>\n",
       "      <td>-------</td>\n",
       "      <td>RL Sport/RLSS cabriolet</td>\n",
       "      <td>1922</td>\n",
       "    </tr>\n",
       "    <tr>\n",
       "      <th>9</th>\n",
       "      <td>cote.encheres.php?idCote=68</td>\n",
       "      <td>68.0</td>\n",
       "      <td>-------</td>\n",
       "      <td>RM/RMS/RMU torpédo</td>\n",
       "      <td>1923</td>\n",
       "    </tr>\n",
       "    <tr>\n",
       "      <th>...</th>\n",
       "      <td>...</td>\n",
       "      <td>...</td>\n",
       "      <td>...</td>\n",
       "      <td>...</td>\n",
       "      <td>...</td>\n",
       "    </tr>\n",
       "    <tr>\n",
       "      <th>2347</th>\n",
       "      <td>cote.encheres.php?idCote=6779</td>\n",
       "      <td>6779.0</td>\n",
       "      <td>14 000 €</td>\n",
       "      <td>TR 8 cabriolet V8</td>\n",
       "      <td>1978</td>\n",
       "    </tr>\n",
       "    <tr>\n",
       "      <th>2349</th>\n",
       "      <td>cote.encheres.php?idCote=6781</td>\n",
       "      <td>6781.0</td>\n",
       "      <td>3 600 €</td>\n",
       "      <td>1300 TC (RF) berline traction avant</td>\n",
       "      <td>1968</td>\n",
       "    </tr>\n",
       "    <tr>\n",
       "      <th>2355</th>\n",
       "      <td>cote.encheres.php?idCote=8532</td>\n",
       "      <td>8532.0</td>\n",
       "      <td>2 200 €</td>\n",
       "      <td>Dolomite 1500 / 1500 HL (WG / WK) berline</td>\n",
       "      <td>1977</td>\n",
       "    </tr>\n",
       "    <tr>\n",
       "      <th>2358</th>\n",
       "      <td>cote.encheres.php?idCote=8533</td>\n",
       "      <td>8533.0</td>\n",
       "      <td>2 400 €</td>\n",
       "      <td>Dolomite 1850 HL (WE) berline</td>\n",
       "      <td>1977</td>\n",
       "    </tr>\n",
       "    <tr>\n",
       "      <th>2359</th>\n",
       "      <td>cote.encheres.php?idCote=6785</td>\n",
       "      <td>6785.0</td>\n",
       "      <td>14 000 €</td>\n",
       "      <td>Dolomite Sprint (VA) berline 16 soupapes</td>\n",
       "      <td>1974</td>\n",
       "    </tr>\n",
       "  </tbody>\n",
       "</table>\n",
       "<p>1590 rows × 5 columns</p>\n",
       "</div>"
      ],
      "text/plain": [
       "                        auction_url  quote_id quote_max_price  \\\n",
       "1       cote.encheres.php?idCote=60      60.0         -------   \n",
       "2       cote.encheres.php?idCote=61      61.0         -------   \n",
       "7       cote.encheres.php?idCote=66      66.0         -------   \n",
       "8       cote.encheres.php?idCote=67      67.0         -------   \n",
       "9       cote.encheres.php?idCote=68      68.0         -------   \n",
       "...                             ...       ...             ...   \n",
       "2347  cote.encheres.php?idCote=6779    6779.0        14 000 €   \n",
       "2349  cote.encheres.php?idCote=6781    6781.0         3 600 €   \n",
       "2355  cote.encheres.php?idCote=8532    8532.0         2 200 €   \n",
       "2358  cote.encheres.php?idCote=8533    8533.0         2 400 €   \n",
       "2359  cote.encheres.php?idCote=6785    6785.0        14 000 €   \n",
       "\n",
       "                                    quote_model quote_year  \n",
       "1                           12/15/20 HP torpédo       1910  \n",
       "2                                 24 HP torpédo       1911  \n",
       "7                         RL Sport/RLSS torpédo       1922  \n",
       "8                       RL Sport/RLSS cabriolet       1922  \n",
       "9                            RM/RMS/RMU torpédo       1923  \n",
       "...                                         ...        ...  \n",
       "2347                          TR 8 cabriolet V8       1978  \n",
       "2349        1300 TC (RF) berline traction avant       1968  \n",
       "2355  Dolomite 1500 / 1500 HL (WG / WK) berline       1977  \n",
       "2358              Dolomite 1850 HL (WE) berline       1977  \n",
       "2359   Dolomite Sprint (VA) berline 16 soupapes       1974  \n",
       "\n",
       "[1590 rows x 5 columns]"
      ]
     },
     "execution_count": 15,
     "metadata": {},
     "output_type": "execute_result"
    }
   ],
   "source": [
    "df"
   ]
  },
  {
   "cell_type": "code",
   "execution_count": null,
   "metadata": {},
   "outputs": [],
   "source": []
  }
 ],
 "metadata": {
  "kernelspec": {
   "display_name": "Python 3",
   "language": "python",
   "name": "python3"
  },
  "language_info": {
   "codemirror_mode": {
    "name": "ipython",
    "version": 3
   },
   "file_extension": ".py",
   "mimetype": "text/x-python",
   "name": "python",
   "nbconvert_exporter": "python",
   "pygments_lexer": "ipython3",
   "version": "3.8.3"
  }
 },
 "nbformat": 4,
 "nbformat_minor": 4
}
